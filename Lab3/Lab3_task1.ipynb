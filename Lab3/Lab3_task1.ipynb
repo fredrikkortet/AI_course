{
 "cells": [
  {
   "cell_type": "markdown",
   "metadata": {},
   "source": [
    "!pip install xlrd pandas\n",
    "!pip install bnlearn"
   ]
  },
  {
   "cell_type": "markdown",
   "metadata": {},
   "source": [
    "# Bayesian Networks\n",
    "\n",
    "In this notebool, we will use bnlearn package to generate Bayesian Networks, based on structure learning and parameter learning. The generated Bayesian Networks will be used for inference. Using bnlearn package to learn a Bayesian network can be split into two problems:\n",
    "\n",
    "- Structure learning: Given a set of data samples, estimate a DAG that captures the dependencies between the variables.\n",
    "\n",
    "- Parameter learning: Given a set of data samples and a DAG that captures the dependencies between the variables, estimate the (conditional) probability distributions of the individual variables."
   ]
  },
  {
   "cell_type": "markdown",
   "metadata": {},
   "source": [
    "### Example: Building Bayesian Network and making inferences with Sprinkler data set"
   ]
  },
  {
   "cell_type": "code",
   "execution_count": 16,
   "metadata": {},
   "outputs": [
    {
     "name": "stdout",
     "output_type": "stream",
     "text": [
      "[bnlearn] >Import dataset..\n"
     ]
    },
    {
     "data": {
      "text/html": [
       "<div>\n",
       "<style scoped>\n",
       "    .dataframe tbody tr th:only-of-type {\n",
       "        vertical-align: middle;\n",
       "    }\n",
       "\n",
       "    .dataframe tbody tr th {\n",
       "        vertical-align: top;\n",
       "    }\n",
       "\n",
       "    .dataframe thead th {\n",
       "        text-align: right;\n",
       "    }\n",
       "</style>\n",
       "<table border=\"1\" class=\"dataframe\">\n",
       "  <thead>\n",
       "    <tr style=\"text-align: right;\">\n",
       "      <th></th>\n",
       "      <th>Cloudy</th>\n",
       "      <th>Sprinkler</th>\n",
       "      <th>Rain</th>\n",
       "      <th>Wet_Grass</th>\n",
       "    </tr>\n",
       "  </thead>\n",
       "  <tbody>\n",
       "    <tr>\n",
       "      <th>0</th>\n",
       "      <td>0</td>\n",
       "      <td>0</td>\n",
       "      <td>0</td>\n",
       "      <td>0</td>\n",
       "    </tr>\n",
       "    <tr>\n",
       "      <th>1</th>\n",
       "      <td>1</td>\n",
       "      <td>0</td>\n",
       "      <td>1</td>\n",
       "      <td>1</td>\n",
       "    </tr>\n",
       "    <tr>\n",
       "      <th>2</th>\n",
       "      <td>0</td>\n",
       "      <td>1</td>\n",
       "      <td>0</td>\n",
       "      <td>1</td>\n",
       "    </tr>\n",
       "    <tr>\n",
       "      <th>3</th>\n",
       "      <td>1</td>\n",
       "      <td>1</td>\n",
       "      <td>1</td>\n",
       "      <td>1</td>\n",
       "    </tr>\n",
       "    <tr>\n",
       "      <th>4</th>\n",
       "      <td>1</td>\n",
       "      <td>1</td>\n",
       "      <td>1</td>\n",
       "      <td>1</td>\n",
       "    </tr>\n",
       "    <tr>\n",
       "      <th>...</th>\n",
       "      <td>...</td>\n",
       "      <td>...</td>\n",
       "      <td>...</td>\n",
       "      <td>...</td>\n",
       "    </tr>\n",
       "    <tr>\n",
       "      <th>995</th>\n",
       "      <td>1</td>\n",
       "      <td>0</td>\n",
       "      <td>1</td>\n",
       "      <td>1</td>\n",
       "    </tr>\n",
       "    <tr>\n",
       "      <th>996</th>\n",
       "      <td>1</td>\n",
       "      <td>0</td>\n",
       "      <td>1</td>\n",
       "      <td>1</td>\n",
       "    </tr>\n",
       "    <tr>\n",
       "      <th>997</th>\n",
       "      <td>1</td>\n",
       "      <td>0</td>\n",
       "      <td>1</td>\n",
       "      <td>1</td>\n",
       "    </tr>\n",
       "    <tr>\n",
       "      <th>998</th>\n",
       "      <td>0</td>\n",
       "      <td>0</td>\n",
       "      <td>0</td>\n",
       "      <td>0</td>\n",
       "    </tr>\n",
       "    <tr>\n",
       "      <th>999</th>\n",
       "      <td>0</td>\n",
       "      <td>1</td>\n",
       "      <td>1</td>\n",
       "      <td>1</td>\n",
       "    </tr>\n",
       "  </tbody>\n",
       "</table>\n",
       "<p>1000 rows × 4 columns</p>\n",
       "</div>"
      ],
      "text/plain": [
       "     Cloudy  Sprinkler  Rain  Wet_Grass\n",
       "0         0          0     0          0\n",
       "1         1          0     1          1\n",
       "2         0          1     0          1\n",
       "3         1          1     1          1\n",
       "4         1          1     1          1\n",
       "..      ...        ...   ...        ...\n",
       "995       1          0     1          1\n",
       "996       1          0     1          1\n",
       "997       1          0     1          1\n",
       "998       0          0     0          0\n",
       "999       0          1     1          1\n",
       "\n",
       "[1000 rows x 4 columns]"
      ]
     },
     "execution_count": 16,
     "metadata": {},
     "output_type": "execute_result"
    }
   ],
   "source": [
    "import bnlearn as bn\n",
    "\n",
    "# load the Sprinkler dataset\n",
    "df = bn.import_example()\n",
    "\n",
    "df"
   ]
  },
  {
   "cell_type": "markdown",
   "metadata": {
    "scrolled": false
   },
   "source": [
    "# Structure Learning: obtaining the network structure\n",
    "\n",
    "model = bn.structure_learning.fit(df)\n",
    "\n",
    "G = bn.plot(model)"
   ]
  },
  {
   "cell_type": "markdown",
   "metadata": {},
   "source": [
    "# learn the parameters of the DAG using the df\n",
    "model_update = bn.parameter_learning.fit(model, df, methodtype=\"bayes\")\n",
    "\n",
    "# Make plot\n",
    "G = bn.plot(model_update)"
   ]
  },
  {
   "cell_type": "markdown",
   "metadata": {},
   "source": [
    "# performing inference\n",
    "q_1 = bn.inference.fit(model_update, variables=['Wet_Grass'], evidence={'Cloudy':1,'Sprinkler':0, 'Rain':1})\n",
    "q_2 = bn.inference.fit(model_update, variables=['Wet_Grass'], evidence={'Rain':1})"
   ]
  },
  {
   "cell_type": "markdown",
   "metadata": {},
   "source": [
    "<div class='alert alert-block alert-success' style=\"font-weight:bolder\">\n",
    "\n",
    "### Task 1\n",
    "\n",
    "Learn a Bayesian Network of the artificial smart grid data set. Construct the network make inference for the following:\n",
    "\n",
    "- P(Outage_Duration=Less_than_1H | Time=Morning, Demand_Factor=Medium)\n",
    "- P(Demand_Factor=High | Overload=Yes, Weather=Cold)\n",
    "- P(Number_of_Customers=Low | Demand_Factor=High)\n"
   ]
  },
  {
   "cell_type": "code",
   "execution_count": 4,
   "metadata": {
    "scrolled": false
   },
   "outputs": [
    {
     "name": "stdout",
     "output_type": "stream",
     "text": [
      "Index(['Season', 'Outage_Duration', 'Number_of_Customers', 'Overload',\n",
      "       'Weather', 'Time', 'Demand_Factor', 'Day'],\n",
      "      dtype='object')\n"
     ]
    },
    {
     "data": {
      "text/html": [
       "<div>\n",
       "<style scoped>\n",
       "    .dataframe tbody tr th:only-of-type {\n",
       "        vertical-align: middle;\n",
       "    }\n",
       "\n",
       "    .dataframe tbody tr th {\n",
       "        vertical-align: top;\n",
       "    }\n",
       "\n",
       "    .dataframe thead th {\n",
       "        text-align: right;\n",
       "    }\n",
       "</style>\n",
       "<table border=\"1\" class=\"dataframe\">\n",
       "  <thead>\n",
       "    <tr style=\"text-align: right;\">\n",
       "      <th></th>\n",
       "      <th>Season</th>\n",
       "      <th>Outage_Duration</th>\n",
       "      <th>Number_of_Customers</th>\n",
       "      <th>Overload</th>\n",
       "      <th>Weather</th>\n",
       "      <th>Time</th>\n",
       "      <th>Demand_Factor</th>\n",
       "      <th>Day</th>\n",
       "    </tr>\n",
       "  </thead>\n",
       "  <tbody>\n",
       "    <tr>\n",
       "      <th>0</th>\n",
       "      <td>Autumn</td>\n",
       "      <td>Less_than_1H</td>\n",
       "      <td>Low</td>\n",
       "      <td>Yes</td>\n",
       "      <td>Cold</td>\n",
       "      <td>Morning</td>\n",
       "      <td>Low</td>\n",
       "      <td>Weekdays</td>\n",
       "    </tr>\n",
       "    <tr>\n",
       "      <th>1</th>\n",
       "      <td>Winter</td>\n",
       "      <td>Less_than_1H</td>\n",
       "      <td>Low</td>\n",
       "      <td>No</td>\n",
       "      <td>Cold</td>\n",
       "      <td>Evening</td>\n",
       "      <td>Low</td>\n",
       "      <td>Weekdays</td>\n",
       "    </tr>\n",
       "    <tr>\n",
       "      <th>2</th>\n",
       "      <td>Spring</td>\n",
       "      <td>More_than_1H</td>\n",
       "      <td>Low</td>\n",
       "      <td>No</td>\n",
       "      <td>Cold</td>\n",
       "      <td>Evening</td>\n",
       "      <td>Low</td>\n",
       "      <td>Weekdays</td>\n",
       "    </tr>\n",
       "    <tr>\n",
       "      <th>3</th>\n",
       "      <td>Winter</td>\n",
       "      <td>Less_than_1H</td>\n",
       "      <td>High</td>\n",
       "      <td>No</td>\n",
       "      <td>Warm</td>\n",
       "      <td>Morning</td>\n",
       "      <td>Low</td>\n",
       "      <td>Weekdays</td>\n",
       "    </tr>\n",
       "    <tr>\n",
       "      <th>4</th>\n",
       "      <td>Spring</td>\n",
       "      <td>More_than_1H</td>\n",
       "      <td>Low</td>\n",
       "      <td>No</td>\n",
       "      <td>Cold</td>\n",
       "      <td>Morning</td>\n",
       "      <td>Low</td>\n",
       "      <td>Weekend</td>\n",
       "    </tr>\n",
       "    <tr>\n",
       "      <th>...</th>\n",
       "      <td>...</td>\n",
       "      <td>...</td>\n",
       "      <td>...</td>\n",
       "      <td>...</td>\n",
       "      <td>...</td>\n",
       "      <td>...</td>\n",
       "      <td>...</td>\n",
       "      <td>...</td>\n",
       "    </tr>\n",
       "    <tr>\n",
       "      <th>695</th>\n",
       "      <td>Autumn</td>\n",
       "      <td>Less_than_1H</td>\n",
       "      <td>Low</td>\n",
       "      <td>Yes</td>\n",
       "      <td>Cold</td>\n",
       "      <td>Afternoon</td>\n",
       "      <td>High</td>\n",
       "      <td>Weekend</td>\n",
       "    </tr>\n",
       "    <tr>\n",
       "      <th>696</th>\n",
       "      <td>Summer</td>\n",
       "      <td>More_than_1H</td>\n",
       "      <td>Low</td>\n",
       "      <td>No</td>\n",
       "      <td>Warm</td>\n",
       "      <td>Evening</td>\n",
       "      <td>Medium</td>\n",
       "      <td>Weekend</td>\n",
       "    </tr>\n",
       "    <tr>\n",
       "      <th>697</th>\n",
       "      <td>Winter</td>\n",
       "      <td>Less_than_1H</td>\n",
       "      <td>High</td>\n",
       "      <td>Yes</td>\n",
       "      <td>Cold</td>\n",
       "      <td>Evening</td>\n",
       "      <td>Medium</td>\n",
       "      <td>Weekdays</td>\n",
       "    </tr>\n",
       "    <tr>\n",
       "      <th>698</th>\n",
       "      <td>Autumn</td>\n",
       "      <td>More_than_1H</td>\n",
       "      <td>Low</td>\n",
       "      <td>No</td>\n",
       "      <td>Cold</td>\n",
       "      <td>Afternoon</td>\n",
       "      <td>High</td>\n",
       "      <td>Weekend</td>\n",
       "    </tr>\n",
       "    <tr>\n",
       "      <th>699</th>\n",
       "      <td>Spring</td>\n",
       "      <td>Less_than_1H</td>\n",
       "      <td>High</td>\n",
       "      <td>No</td>\n",
       "      <td>Warm</td>\n",
       "      <td>Morning</td>\n",
       "      <td>Low</td>\n",
       "      <td>Weekdays</td>\n",
       "    </tr>\n",
       "  </tbody>\n",
       "</table>\n",
       "<p>700 rows × 8 columns</p>\n",
       "</div>"
      ],
      "text/plain": [
       "     Season Outage_Duration Number_of_Customers Overload Weather       Time  \\\n",
       "0    Autumn    Less_than_1H                 Low      Yes    Cold    Morning   \n",
       "1    Winter    Less_than_1H                 Low       No    Cold    Evening   \n",
       "2    Spring    More_than_1H                 Low       No    Cold    Evening   \n",
       "3    Winter    Less_than_1H                High       No    Warm    Morning   \n",
       "4    Spring    More_than_1H                 Low       No    Cold    Morning   \n",
       "..      ...             ...                 ...      ...     ...        ...   \n",
       "695  Autumn    Less_than_1H                 Low      Yes    Cold  Afternoon   \n",
       "696  Summer    More_than_1H                 Low       No    Warm    Evening   \n",
       "697  Winter    Less_than_1H                High      Yes    Cold    Evening   \n",
       "698  Autumn    More_than_1H                 Low       No    Cold  Afternoon   \n",
       "699  Spring    Less_than_1H                High       No    Warm    Morning   \n",
       "\n",
       "    Demand_Factor       Day  \n",
       "0             Low  Weekdays  \n",
       "1             Low  Weekdays  \n",
       "2             Low  Weekdays  \n",
       "3             Low  Weekdays  \n",
       "4             Low   Weekend  \n",
       "..            ...       ...  \n",
       "695          High   Weekend  \n",
       "696        Medium   Weekend  \n",
       "697        Medium  Weekdays  \n",
       "698          High   Weekend  \n",
       "699           Low  Weekdays  \n",
       "\n",
       "[700 rows x 8 columns]"
      ]
     },
     "execution_count": 4,
     "metadata": {},
     "output_type": "execute_result"
    }
   ],
   "source": [
    "import pandas as pd\n",
    "\n",
    "file = \"./smart_grid.xlsx\"\n",
    "\n",
    "df_sg = data = pd.read_excel(file)\n",
    "\n",
    "print(df_sg.columns)\n",
    "df_sg"
   ]
  },
  {
   "cell_type": "code",
   "execution_count": 5,
   "metadata": {},
   "outputs": [
    {
     "name": "stdout",
     "output_type": "stream",
     "text": [
      "[bnlearn] >Computing best DAG using [hc]\n",
      "[bnlearn] >Set scoring type at [bic]\n",
      "[bnlearn]> Set node properties.\n",
      "[bnlearn] >Plot based on BayesianModel\n"
     ]
    },
    {
     "data": {
      "image/png": "[encoded data removed]",
      "text/plain": [
       "<Figure size 1080x576 with 1 Axes>"
      ]
     },
     "metadata": {},
     "output_type": "display_data"
    }
   ],
   "source": [
    "model = bn.structure_learning.fit(df_sg)\n",
    "\n",
    "G = bn.plot(model)"
   ]
  },
  {
   "cell_type": "code",
   "execution_count": 8,
   "metadata": {},
   "outputs": [
    {
     "name": "stdout",
     "output_type": "stream",
     "text": [
      "[bnlearn] >Parameter learning> Computing parameters using [bayes]\n",
      "[bnlearn] >Conversion of adjmat to BayesianModel.\n",
      "[bnlearn] >CPD of Outage_Duration:\n",
      "+-------------------------------+--------------------+---------------------+\n",
      "| Overload                      | Overload(No)       | Overload(Yes)       |\n",
      "+-------------------------------+--------------------+---------------------+\n",
      "| Outage_Duration(Less_than_1H) | 0.3964248159831756 | 0.5874499332443258  |\n",
      "+-------------------------------+--------------------+---------------------+\n",
      "| Outage_Duration(More_than_1H) | 0.6035751840168244 | 0.41255006675567424 |\n",
      "+-------------------------------+--------------------+---------------------+\n",
      "[bnlearn] >CPD of Weather:\n",
      "+-----------------+-----+-------------------------------+\n",
      "| Outage_Duration | ... | Outage_Duration(More_than_1H) |\n",
      "+-----------------+-----+-------------------------------+\n",
      "| Weather( Cold)  | ... | 0.579841449603624             |\n",
      "+-----------------+-----+-------------------------------+\n",
      "| Weather( Warm)  | ... | 0.420158550396376             |\n",
      "+-----------------+-----+-------------------------------+\n",
      "[bnlearn] >CPD of Number_of_Customers:\n",
      "+---------------------------+----------+\n",
      "| Number_of_Customers(High) | 0.461176 |\n",
      "+---------------------------+----------+\n",
      "| Number_of_Customers(Low)  | 0.538824 |\n",
      "+---------------------------+----------+\n",
      "[bnlearn] >CPD of Overload:\n",
      "+---------------------+-----+--------------------------+\n",
      "| Demand_Factor       | ... | Demand_Factor(Medium)    |\n",
      "+---------------------+-----+--------------------------+\n",
      "| Number_of_Customers | ... | Number_of_Customers(Low) |\n",
      "+---------------------+-----+--------------------------+\n",
      "| Overload(No)        | ... | 0.6346396965865992       |\n",
      "+---------------------+-----+--------------------------+\n",
      "| Overload(Yes)       | ... | 0.3653603034134008       |\n",
      "+---------------------+-----+--------------------------+\n",
      "[bnlearn] >CPD of Season:\n",
      "+----------------+---------------------+---------------------+\n",
      "| Weather        | Weather( Cold)      | Weather( Warm)      |\n",
      "+----------------+---------------------+---------------------+\n",
      "| Season(Autumn) | 0.26673866090712745 | 0.23772609819121446 |\n",
      "+----------------+---------------------+---------------------+\n",
      "| Season(Spring) | 0.24622030237580994 | 0.2467700258397933  |\n",
      "+----------------+---------------------+---------------------+\n",
      "| Season(Summer) | 0.17818574514038876 | 0.3372093023255814  |\n",
      "+----------------+---------------------+---------------------+\n",
      "| Season(Winter) | 0.30885529157667385 | 0.17829457364341086 |\n",
      "+----------------+---------------------+---------------------+\n",
      "[bnlearn] >CPD of Time:\n",
      "+-----------------+----------+\n",
      "| Time(Afternoon) | 0.267647 |\n",
      "+-----------------+----------+\n",
      "| Time(Evening)   | 0.267647 |\n",
      "+-----------------+----------+\n",
      "| Time(Morning)   | 0.277647 |\n",
      "+-----------------+----------+\n",
      "| Time(Night)     | 0.187059 |\n",
      "+-----------------+----------+\n",
      "[bnlearn] >CPD of Demand_Factor:\n",
      "+-----------------------+-----+---------------------+\n",
      "| Day                   | ... | Day(Weekend)        |\n",
      "+-----------------------+-----+---------------------+\n",
      "| Time                  | ... | Time(Night)         |\n",
      "+-----------------------+-----+---------------------+\n",
      "| Demand_Factor(High)   | ... | 0.2882882882882883  |\n",
      "+-----------------------+-----+---------------------+\n",
      "| Demand_Factor(Low)    | ... | 0.35585585585585583 |\n",
      "+-----------------------+-----+---------------------+\n",
      "| Demand_Factor(Medium) | ... | 0.35585585585585583 |\n",
      "+-----------------------+-----+---------------------+\n",
      "[bnlearn] >CPD of Day:\n",
      "+---------------+----------+\n",
      "| Day(Weekdays) | 0.543529 |\n",
      "+---------------+----------+\n",
      "| Day(Weekend)  | 0.456471 |\n",
      "+---------------+----------+\n",
      "[bnlearn]> Set node properties.\n",
      "[bnlearn] >Plot based on BayesianModel\n"
     ]
    },
    {
     "data": {
      "image/png": "[encoded data removed]",
      "text/plain": [
       "<Figure size 1080x576 with 1 Axes>"
      ]
     },
     "metadata": {},
     "output_type": "display_data"
    }
   ],
   "source": [
    "model_update = bn.parameter_learning.fit(model, df_sg, methodtype=\"bayes\")\n",
    "G = bn.plot(model_update)"
   ]
  },
  {
   "cell_type": "code",
   "execution_count": 11,
   "metadata": {
    "scrolled": false
   },
   "outputs": [
    {
     "name": "stdout",
     "output_type": "stream",
     "text": [
      "[bnlearn] >Variable Elimination..\n"
     ]
    },
    {
     "data": {
      "application/vnd.jupyter.widget-view+json": {
       "model_id": "0400418633b34b51a749cd46eb9654c6",
       "version_major": 2,
       "version_minor": 0
      },
      "text/plain": [
       "  0%|          | 0/2 [00:00<?, ?it/s]"
      ]
     },
     "metadata": {},
     "output_type": "display_data"
    },
    {
     "data": {
      "application/vnd.jupyter.widget-view+json": {
       "model_id": "9fe59fe500204bed8697e3c42b236ca7",
       "version_major": 2,
       "version_minor": 0
      },
      "text/plain": [
       "  0%|          | 0/2 [00:00<?, ?it/s]"
      ]
     },
     "metadata": {},
     "output_type": "display_data"
    },
    {
     "name": "stdout",
     "output_type": "stream",
     "text": [
      "+----+-------------------+----------+\n",
      "|    |   Outage_Duration |        p |\n",
      "+====+===================+==========+\n",
      "|  0 |                 0 | 0.482832 |\n",
      "+----+-------------------+----------+\n",
      "|  1 |                 1 | 0.517168 |\n",
      "+----+-------------------+----------+\n",
      "+-------------------------------+------------------------+\n",
      "| Outage_Duration               |   phi(Outage_Duration) |\n",
      "+===============================+========================+\n",
      "| Outage_Duration(Less_than_1H) |                 0.4828 |\n",
      "+-------------------------------+------------------------+\n",
      "| Outage_Duration(More_than_1H) |                 0.5172 |\n",
      "+-------------------------------+------------------------+\n"
     ]
    }
   ],
   "source": [
    "#P(Outage_Duration=Less_than_1H | Time=Morning, Demand_Factor=Medium)\n",
    "a = bn.inference.fit(model_update, variables =[\"Outage_Duration\"], evidence={\"Time\":\"Morning\",\"Demand_Factor\":\"Medium\"})\n",
    "print(a)"
   ]
  },
  {
   "cell_type": "code",
   "execution_count": 13,
   "metadata": {
    "scrolled": true
   },
   "outputs": [
    {
     "name": "stdout",
     "output_type": "stream",
     "text": [
      "[bnlearn] >Variable Elimination..\n"
     ]
    },
    {
     "data": {
      "application/vnd.jupyter.widget-view+json": {
       "model_id": "0cf261190c144dbc9563c04c66dede49",
       "version_major": 2,
       "version_minor": 0
      },
      "text/plain": [
       "  0%|          | 0/3 [00:00<?, ?it/s]"
      ]
     },
     "metadata": {},
     "output_type": "display_data"
    },
    {
     "data": {
      "application/vnd.jupyter.widget-view+json": {
       "model_id": "58959c65a7f44d5cb7782d1110a4a6b4",
       "version_major": 2,
       "version_minor": 0
      },
      "text/plain": [
       "  0%|          | 0/3 [00:00<?, ?it/s]"
      ]
     },
     "metadata": {},
     "output_type": "display_data"
    },
    {
     "name": "stdout",
     "output_type": "stream",
     "text": [
      "+----+-----------------+----------+\n",
      "|    |   Demand_Factor |        p |\n",
      "+====+=================+==========+\n",
      "|  0 |               0 | 0.367494 |\n",
      "+----+-----------------+----------+\n",
      "|  1 |               1 | 0.33314  |\n",
      "+----+-----------------+----------+\n",
      "|  2 |               2 | 0.299365 |\n",
      "+----+-----------------+----------+\n",
      "+-----------------------+----------------------+\n",
      "| Demand_Factor         |   phi(Demand_Factor) |\n",
      "+=======================+======================+\n",
      "| Demand_Factor(High)   |               0.3675 |\n",
      "+-----------------------+----------------------+\n",
      "| Demand_Factor(Low)    |               0.3331 |\n",
      "+-----------------------+----------------------+\n",
      "| Demand_Factor(Medium) |               0.2994 |\n",
      "+-----------------------+----------------------+\n"
     ]
    }
   ],
   "source": [
    "#P(Demand_Factor=High | Overload=Yes, Weather=Cold)\n",
    "b = bn.inference.fit(model_update, variables=[\"Demand_Factor\"], evidence={\"Overload\":\"Yes\",\"Weather\":\" Cold\"})\n",
    "print(b)"
   ]
  },
  {
   "cell_type": "code",
   "execution_count": 15,
   "metadata": {},
   "outputs": [
    {
     "name": "stdout",
     "output_type": "stream",
     "text": [
      "[bnlearn] >Variable Elimination..\n"
     ]
    },
    {
     "data": {
      "application/vnd.jupyter.widget-view+json": {
       "model_id": "c77d7edd2d064f78b60128ed0a711984",
       "version_major": 2,
       "version_minor": 0
      },
      "text/plain": [
       "0it [00:00, ?it/s]"
      ]
     },
     "metadata": {},
     "output_type": "display_data"
    },
    {
     "data": {
      "application/vnd.jupyter.widget-view+json": {
       "model_id": "9b6234bec42b4972b823b72c4d1f812e",
       "version_major": 2,
       "version_minor": 0
      },
      "text/plain": [
       "0it [00:00, ?it/s]"
      ]
     },
     "metadata": {},
     "output_type": "display_data"
    },
    {
     "name": "stdout",
     "output_type": "stream",
     "text": [
      "+----+-----------------------+----------+\n",
      "|    |   Number_of_Customers |        p |\n",
      "+====+=======================+==========+\n",
      "|  0 |                     0 | 0.461176 |\n",
      "+----+-----------------------+----------+\n",
      "|  1 |                     1 | 0.538824 |\n",
      "+----+-----------------------+----------+\n",
      "+---------------------------+----------------------------+\n",
      "| Number_of_Customers       |   phi(Number_of_Customers) |\n",
      "+===========================+============================+\n",
      "| Number_of_Customers(High) |                     0.4612 |\n",
      "+---------------------------+----------------------------+\n",
      "| Number_of_Customers(Low)  |                     0.5388 |\n",
      "+---------------------------+----------------------------+\n"
     ]
    }
   ],
   "source": [
    "c = bn.inference.fit(model_update, variables=[\"Number_of_Customers\"], evidence={\"Demand_Factor\":\"High\"})\n",
    "print(c)\n"
   ]
  },
  {
   "cell_type": "code",
   "execution_count": null,
   "metadata": {},
   "outputs": [],
   "source": []
  }
 ],
 "metadata": {
  "kernelspec": {
   "display_name": "Python 3 (ipykernel)",
   "language": "python",
   "name": "python3"
  },
  "language_info": {
   "codemirror_mode": {
    "name": "ipython",
    "version": 3
   },
   "file_extension": ".py",
   "mimetype": "text/x-python",
   "name": "python",
   "nbconvert_exporter": "python",
   "pygments_lexer": "ipython3",
   "version": "3.9.9"
  }
 },
 "nbformat": 4,
 "nbformat_minor": 4
}
