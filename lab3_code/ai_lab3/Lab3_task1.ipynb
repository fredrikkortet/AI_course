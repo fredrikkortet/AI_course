{
 "cells": [
  {
   "cell_type": "code",
<<<<<<< HEAD
   "execution_count": 12,
=======
   "execution_count": 2,
>>>>>>> refs/remotes/origin/main
   "metadata": {},
   "outputs": [
    {
     "name": "stdout",
     "output_type": "stream",
     "text": [
<<<<<<< HEAD
      "Defaulting to user installation because normal site-packages is not writeable\n",
      "Requirement already satisfied: xlrd in /home/rohullah/.local/lib/python3.9/site-packages (2.0.1)\n",
      "Requirement already satisfied: pandas in /home/rohullah/.local/lib/python3.9/site-packages (1.3.4)\n",
      "Requirement already satisfied: pytz>=2017.3 in /home/rohullah/.local/lib/python3.9/site-packages (from pandas) (2021.3)\n",
      "Requirement already satisfied: python-dateutil>=2.7.3 in /home/rohullah/.local/lib/python3.9/site-packages (from pandas) (2.8.2)\n",
      "Requirement already satisfied: numpy>=1.17.3 in /usr/lib/python3.9/site-packages (from pandas) (1.21.3)\n",
      "Requirement already satisfied: six>=1.5 in /usr/lib/python3.9/site-packages (from python-dateutil>=2.7.3->pandas) (1.16.0)\n",
      "Defaulting to user installation because normal site-packages is not writeable\n",
      "Requirement already satisfied: bnlearn in /home/rohullah/.local/lib/python3.9/site-packages (0.4.8)\n",
      "Requirement already satisfied: packaging in /usr/lib/python3.9/site-packages (from bnlearn) (20.9)\n",
      "Requirement already satisfied: pandas in /home/rohullah/.local/lib/python3.9/site-packages (from bnlearn) (1.3.4)\n",
      "Requirement already satisfied: df2onehot in /home/rohullah/.local/lib/python3.9/site-packages (from bnlearn) (1.0.0)\n",
      "Requirement already satisfied: sklearn in /home/rohullah/.local/lib/python3.9/site-packages (from bnlearn) (0.0)\n",
      "Requirement already satisfied: fsspec in /home/rohullah/.local/lib/python3.9/site-packages (from bnlearn) (2021.11.1)\n",
      "Requirement already satisfied: funcsigs in /home/rohullah/.local/lib/python3.9/site-packages (from bnlearn) (1.0.2)\n",
      "Requirement already satisfied: pypickle in /home/rohullah/.local/lib/python3.9/site-packages (from bnlearn) (1.0.0)\n",
      "Requirement already satisfied: wget in /home/rohullah/.local/lib/python3.9/site-packages (from bnlearn) (3.2)\n",
      "Requirement already satisfied: tabulate in /home/rohullah/.local/lib/python3.9/site-packages (from bnlearn) (0.8.9)\n",
      "Requirement already satisfied: numpy in /usr/lib/python3.9/site-packages (from bnlearn) (1.21.3)\n",
      "Requirement already satisfied: statsmodels in /home/rohullah/.local/lib/python3.9/site-packages (from bnlearn) (0.13.1)\n",
      "Requirement already satisfied: networkx>2.5 in /home/rohullah/.local/lib/python3.9/site-packages (from bnlearn) (2.6.3)\n",
      "Requirement already satisfied: ismember in /home/rohullah/.local/lib/python3.9/site-packages (from bnlearn) (1.0.0)\n",
      "Requirement already satisfied: community in /home/rohullah/.local/lib/python3.9/site-packages (from bnlearn) (1.0.0b1)\n",
      "Requirement already satisfied: tqdm in /home/rohullah/.local/lib/python3.9/site-packages (from bnlearn) (4.62.3)\n",
      "Requirement already satisfied: matplotlib>=3.3.4 in /home/rohullah/.local/lib/python3.9/site-packages (from bnlearn) (3.5.0)\n",
      "Requirement already satisfied: pgmpy>=0.1.13 in /home/rohullah/.local/lib/python3.9/site-packages (from bnlearn) (0.1.16)\n",
      "Requirement already satisfied: pillow>=6.2.0 in /usr/lib/python3.9/site-packages (from matplotlib>=3.3.4->bnlearn) (8.4.0)\n",
      "Requirement already satisfied: kiwisolver>=1.0.1 in /home/rohullah/.local/lib/python3.9/site-packages (from matplotlib>=3.3.4->bnlearn) (1.3.2)\n",
      "Requirement already satisfied: setuptools-scm>=4 in /home/rohullah/.local/lib/python3.9/site-packages (from matplotlib>=3.3.4->bnlearn) (6.3.2)\n",
      "Requirement already satisfied: fonttools>=4.22.0 in /home/rohullah/.local/lib/python3.9/site-packages (from matplotlib>=3.3.4->bnlearn) (4.28.3)\n",
      "Requirement already satisfied: python-dateutil>=2.7 in /home/rohullah/.local/lib/python3.9/site-packages (from matplotlib>=3.3.4->bnlearn) (2.8.2)\n",
      "Requirement already satisfied: pyparsing>=2.2.1 in /usr/lib/python3.9/site-packages (from matplotlib>=3.3.4->bnlearn) (2.4.7)\n",
      "Requirement already satisfied: cycler>=0.10 in /home/rohullah/.local/lib/python3.9/site-packages (from matplotlib>=3.3.4->bnlearn) (0.11.0)\n",
      "Requirement already satisfied: scikit-learn in /home/rohullah/.local/lib/python3.9/site-packages (from pgmpy>=0.1.13->bnlearn) (1.0.1)\n",
      "Requirement already satisfied: joblib in /home/rohullah/.local/lib/python3.9/site-packages (from pgmpy>=0.1.13->bnlearn) (1.1.0)\n",
      "Requirement already satisfied: torch in /home/rohullah/.local/lib/python3.9/site-packages (from pgmpy>=0.1.13->bnlearn) (1.10.0)\n",
      "Requirement already satisfied: scipy in /home/rohullah/.local/lib/python3.9/site-packages (from pgmpy>=0.1.13->bnlearn) (1.7.3)\n",
      "Requirement already satisfied: six>=1.5 in /usr/lib/python3.9/site-packages (from python-dateutil>=2.7->matplotlib>=3.3.4->bnlearn) (1.16.0)\n",
      "Requirement already satisfied: setuptools in /usr/lib/python3.9/site-packages (from setuptools-scm>=4->matplotlib>=3.3.4->bnlearn) (57.4.0)\n",
      "Requirement already satisfied: tomli>=1.0.0 in /usr/lib/python3.9/site-packages (from setuptools-scm>=4->matplotlib>=3.3.4->bnlearn) (1.2.2)\n",
      "Requirement already satisfied: Flask in /home/rohullah/.local/lib/python3.9/site-packages (from community->bnlearn) (2.0.2)\n",
      "Requirement already satisfied: requests in /usr/lib/python3.9/site-packages (from community->bnlearn) (2.26.0)\n",
      "Requirement already satisfied: itsdangerous>=2.0 in /home/rohullah/.local/lib/python3.9/site-packages (from Flask->community->bnlearn) (2.0.1)\n",
      "Requirement already satisfied: Jinja2>=3.0 in /usr/lib/python3.9/site-packages (from Flask->community->bnlearn) (3.0.3)\n",
      "Requirement already satisfied: click>=7.1.2 in /home/rohullah/.local/lib/python3.9/site-packages (from Flask->community->bnlearn) (8.0.3)\n",
      "Requirement already satisfied: Werkzeug>=2.0 in /home/rohullah/.local/lib/python3.9/site-packages (from Flask->community->bnlearn) (2.0.2)\n",
      "Requirement already satisfied: MarkupSafe>=2.0 in /usr/lib/python3.9/site-packages (from Jinja2>=3.0->Flask->community->bnlearn) (2.0.1)\n",
      "Requirement already satisfied: pytz>=2017.3 in /home/rohullah/.local/lib/python3.9/site-packages (from pandas->bnlearn) (2021.3)\n",
      "Requirement already satisfied: chardet>=3.0.2 in /usr/lib/python3.9/site-packages (from requests->community->bnlearn) (4.0.0)\n",
      "Requirement already satisfied: idna>=2.5 in /usr/lib/python3.9/site-packages (from requests->community->bnlearn) (3.3)\n",
      "Requirement already satisfied: urllib3>=1.21.1 in /usr/lib/python3.9/site-packages (from requests->community->bnlearn) (1.26.7)\n",
      "Requirement already satisfied: threadpoolctl>=2.0.0 in /home/rohullah/.local/lib/python3.9/site-packages (from scikit-learn->pgmpy>=0.1.13->bnlearn) (3.0.0)\n",
      "Requirement already satisfied: patsy>=0.5.2 in /home/rohullah/.local/lib/python3.9/site-packages (from statsmodels->bnlearn) (0.5.2)\n",
      "Requirement already satisfied: typing-extensions in /home/rohullah/.local/lib/python3.9/site-packages (from torch->pgmpy>=0.1.13->bnlearn) (4.0.1)\n"
=======
      "\u001b]4;0;#073642\u001b\\\u001b]4;1;#dc322f\u001b\\\u001b]4;2;#859900\u001b\\\u001b]4;3;#b58900\u001b\\\u001b]4;4;#268bd2\u001b\\\u001b]4;5;#d33682\u001b\\\u001b]4;6;#2aa198\u001b\\\u001b]4;7;#eee8d5\u001b\\\u001b]4;8;#6c7c80\u001b\\\u001b]4;9;#dc322f\u001b\\\u001b]4;10;#859900\u001b\\\u001b]4;11;#b58900\u001b\\\u001b]4;12;#268bd2\u001b\\\u001b]4;13;#d33682\u001b\\\u001b]4;14;#2aa198\u001b\\\u001b]4;15;#eee8d5\u001b\\\u001b]10;#fdf6e3\u001b\\\u001b]11;#073642\u001b\\\u001b]12;#dc322f\u001b\\\u001b]13;#fdf6e3\u001b\\\u001b]17;#fdf6e3\u001b\\\u001b]19;#073642\u001b\\\u001b]4;232;#073642\u001b\\\u001b]4;256;#fdf6e3\u001b\\\u001b]4;257;#073642\u001b\\\u001b]708;#073642\u001b\\Defaulting to user installation because normal site-packages is not writeable\n",
      "Requirement already satisfied: openpyxl in /home/tipparn/.local/lib/python3.9/site-packages (3.0.9)\n",
      "Requirement already satisfied: pandas in /home/tipparn/.local/lib/python3.9/site-packages (1.3.2)\n",
      "Requirement already satisfied: et-xmlfile in /home/tipparn/.local/lib/python3.9/site-packages (from openpyxl) (1.1.0)\n",
      "Requirement already satisfied: python-dateutil>=2.7.3 in /usr/lib/python3.9/site-packages (from pandas) (2.8.2)\n",
      "Requirement already satisfied: numpy>=1.17.3 in /usr/lib/python3.9/site-packages (from pandas) (1.21.3)\n",
      "Requirement already satisfied: pytz>=2017.3 in /usr/lib/python3.9/site-packages (from pandas) (2021.3)\n",
      "Requirement already satisfied: six>=1.5 in /usr/lib/python3.9/site-packages (from python-dateutil>=2.7.3->pandas) (1.16.0)\n",
      "\u001b]4;0;#073642\u001b\\\u001b]4;1;#dc322f\u001b\\\u001b]4;2;#859900\u001b\\\u001b]4;3;#b58900\u001b\\\u001b]4;4;#268bd2\u001b\\\u001b]4;5;#d33682\u001b\\\u001b]4;6;#2aa198\u001b\\\u001b]4;7;#eee8d5\u001b\\\u001b]4;8;#6c7c80\u001b\\\u001b]4;9;#dc322f\u001b\\\u001b]4;10;#859900\u001b\\\u001b]4;11;#b58900\u001b\\\u001b]4;12;#268bd2\u001b\\\u001b]4;13;#d33682\u001b\\\u001b]4;14;#2aa198\u001b\\\u001b]4;15;#eee8d5\u001b\\\u001b]10;#fdf6e3\u001b\\\u001b]11;#073642\u001b\\\u001b]12;#dc322f\u001b\\\u001b]13;#fdf6e3\u001b\\\u001b]17;#fdf6e3\u001b\\\u001b]19;#073642\u001b\\\u001b]4;232;#073642\u001b\\\u001b]4;256;#fdf6e3\u001b\\\u001b]4;257;#073642\u001b\\\u001b]708;#073642\u001b\\Defaulting to user installation because normal site-packages is not writeable\n",
      "Collecting bnlearn\n",
      "  Using cached bnlearn-0.4.8-py3-none-any.whl (42 kB)\n",
      "Collecting pgmpy>=0.1.13\n",
      "  Using cached pgmpy-0.1.16-py3-none-any.whl (1.9 MB)\n",
      "Requirement already satisfied: numpy in /usr/lib/python3.9/site-packages (from bnlearn) (1.21.3)\n",
      "Collecting ismember\n",
      "  Using cached ismember-1.0.0-py3-none-any.whl (6.4 kB)\n",
      "Collecting networkx>2.5\n",
      "  Using cached networkx-2.6.3-py3-none-any.whl (1.9 MB)\n",
      "Requirement already satisfied: pandas in /home/tipparn/.local/lib/python3.9/site-packages (from bnlearn) (1.3.2)\n",
      "Requirement already satisfied: matplotlib>=3.3.4 in /usr/lib/python3.9/site-packages (from bnlearn) (3.4.2)\n",
      "Requirement already satisfied: sklearn in /home/tipparn/.local/lib/python3.9/site-packages (from bnlearn) (0.0)\n",
      "Collecting community\n",
      "  Using cached community-1.0.0b1.tar.gz (2.2 kB)\n",
      "Collecting df2onehot\n",
      "  Using cached df2onehot-1.0.0-py3-none-any.whl (13 kB)\n",
      "Collecting fsspec\n",
      "  Using cached fsspec-2021.11.1-py3-none-any.whl (132 kB)\n",
      "Collecting pypickle\n",
      "  Using cached pypickle-1.0.0-py3-none-any.whl (4.5 kB)\n",
      "Collecting wget\n",
      "  Using cached wget-3.2.zip (10 kB)\n",
      "Collecting tqdm\n",
      "  Using cached tqdm-4.62.3-py2.py3-none-any.whl (76 kB)\n",
      "Requirement already satisfied: tabulate in /home/tipparn/.local/lib/python3.9/site-packages (from bnlearn) (0.8.9)\n",
      "Requirement already satisfied: packaging in /usr/lib/python3.9/site-packages (from bnlearn) (20.9)\n",
      "Collecting statsmodels\n",
      "  Using cached statsmodels-0.13.1-cp39-cp39-manylinux_2_17_x86_64.manylinux2014_x86_64.whl (9.9 MB)\n",
      "Collecting funcsigs\n",
      "  Using cached funcsigs-1.0.2-py2.py3-none-any.whl (17 kB)\n",
      "Requirement already satisfied: cycler>=0.10 in /usr/lib/python3.9/site-packages (from matplotlib>=3.3.4->bnlearn) (0.10.0)\n",
      "Requirement already satisfied: pyparsing>=2.2.1 in /usr/lib/python3.9/site-packages (from matplotlib>=3.3.4->bnlearn) (2.4.7)\n",
      "Requirement already satisfied: kiwisolver>=1.0.1 in /usr/lib/python3.9/site-packages (from matplotlib>=3.3.4->bnlearn) (1.3.1)\n",
      "Requirement already satisfied: python-dateutil>=2.7 in /usr/lib/python3.9/site-packages (from matplotlib>=3.3.4->bnlearn) (2.8.2)\n",
      "Requirement already satisfied: pillow>=6.2.0 in /usr/lib/python3.9/site-packages (from matplotlib>=3.3.4->bnlearn) (8.4.0)\n",
      "Requirement already satisfied: six in /usr/lib/python3.9/site-packages (from cycler>=0.10->matplotlib>=3.3.4->bnlearn) (1.16.0)\n",
      "Collecting torch\n",
      "  Downloading torch-1.10.0-cp39-cp39-manylinux1_x86_64.whl (881.9 MB)\n",
      "     |████████████████████████████████| 881.9 MB 2.1 kB/s             \n",
      "\u001b[?25hRequirement already satisfied: joblib in /home/tipparn/.local/lib/python3.9/site-packages (from pgmpy>=0.1.13->bnlearn) (1.1.0)\n",
      "Requirement already satisfied: scikit-learn in /home/tipparn/.local/lib/python3.9/site-packages (from pgmpy>=0.1.13->bnlearn) (1.0.1)\n",
      "Requirement already satisfied: scipy in /usr/lib/python3.9/site-packages (from pgmpy>=0.1.13->bnlearn) (1.7.3)\n",
      "Collecting Flask\n",
      "  Downloading Flask-2.0.2-py3-none-any.whl (95 kB)\n",
      "     |████████████████████████████████| 95 kB 6.2 MB/s             \n",
      "\u001b[?25hRequirement already satisfied: requests in /usr/lib/python3.9/site-packages (from community->bnlearn) (2.26.0)\n",
      "Collecting Werkzeug>=2.0\n",
      "  Downloading Werkzeug-2.0.2-py3-none-any.whl (288 kB)\n",
      "     |████████████████████████████████| 288 kB 12.0 MB/s            \n",
      "\u001b[?25hRequirement already satisfied: Jinja2>=3.0 in /usr/lib/python3.9/site-packages (from Flask->community->bnlearn) (3.0.3)\n",
      "Collecting itsdangerous>=2.0\n",
      "  Downloading itsdangerous-2.0.1-py3-none-any.whl (18 kB)\n",
      "Requirement already satisfied: click>=7.1.2 in /usr/lib/python3.9/site-packages (from Flask->community->bnlearn) (8.0.3)\n",
      "Requirement already satisfied: MarkupSafe>=2.0 in /usr/lib/python3.9/site-packages (from Jinja2>=3.0->Flask->community->bnlearn) (2.0.1)\n",
      "Requirement already satisfied: pytz>=2017.3 in /usr/lib/python3.9/site-packages (from pandas->bnlearn) (2021.3)\n",
      "Requirement already satisfied: chardet>=3.0.2 in /usr/lib/python3.9/site-packages (from requests->community->bnlearn) (4.0.0)\n",
      "Requirement already satisfied: idna>=2.5 in /usr/lib/python3.9/site-packages (from requests->community->bnlearn) (3.3)\n",
      "Requirement already satisfied: urllib3>=1.21.1 in /usr/lib/python3.9/site-packages (from requests->community->bnlearn) (1.26.7)\n",
      "Requirement already satisfied: threadpoolctl>=2.0.0 in /home/tipparn/.local/lib/python3.9/site-packages (from scikit-learn->pgmpy>=0.1.13->bnlearn) (3.0.0)\n",
      "Collecting patsy>=0.5.2\n",
      "  Downloading patsy-0.5.2-py2.py3-none-any.whl (233 kB)\n",
      "     |████████████████████████████████| 233 kB 15.1 MB/s            \n",
      "\u001b[?25hCollecting typing-extensions\n",
      "  Downloading typing_extensions-4.0.1-py3-none-any.whl (22 kB)\n",
      "Using legacy 'setup.py install' for community, since package 'wheel' is not installed.\n",
      "Using legacy 'setup.py install' for wget, since package 'wheel' is not installed.\n",
      "Installing collected packages: Werkzeug, typing-extensions, patsy, itsdangerous, wget, tqdm, torch, statsmodels, networkx, Flask, pypickle, pgmpy, ismember, funcsigs, fsspec, df2onehot, community, bnlearn\n",
      "    Running setup.py install for wget ... \u001b[?25ldone\n",
      "\u001b[?25h    Running setup.py install for community ... \u001b[?25ldone\n",
      "\u001b[?25hSuccessfully installed Flask-2.0.2 Werkzeug-2.0.2 bnlearn-0.4.8 community-1.0.0b1 df2onehot-1.0.0 fsspec-2021.11.1 funcsigs-1.0.2 ismember-1.0.0 itsdangerous-2.0.1 networkx-2.6.3 patsy-0.5.2 pgmpy-0.1.16 pypickle-1.0.0 statsmodels-0.13.1 torch-1.10.0 tqdm-4.62.3 typing-extensions-4.0.1 wget-3.2\n"
>>>>>>> refs/remotes/origin/main
     ]
    }
   ],
   "source": [
    "!pip install openpyxl pandas\n",
    "!pip install bnlearn"
   ]
  },
  {
   "cell_type": "markdown",
   "metadata": {},
   "source": [
    "# Bayesian Networks\n",
    "\n",
    "In this notebool, we will use bnlearn package to generate Bayesian Networks, based on structure learning and parameter learning. The generated Bayesian Networks will be used for inference. Using bnlearn package to learn a Bayesian network can be split into two problems:\n",
    "\n",
    "- Structure learning: Given a set of data samples, estimate a DAG that captures the dependencies between the variables.\n",
    "\n",
    "- Parameter learning: Given a set of data samples and a DAG that captures the dependencies between the variables, estimate the (conditional) probability distributions of the individual variables."
   ]
  },
  {
   "cell_type": "markdown",
   "metadata": {},
   "source": [
    "### Example: Building Bayesian Network and making inferences with Sprinkler data set"
   ]
  },
  {
   "cell_type": "code",
<<<<<<< HEAD
   "execution_count": 22,
=======
   "execution_count": 3,
>>>>>>> refs/remotes/origin/main
   "metadata": {},
   "outputs": [
    {
     "name": "stdout",
     "output_type": "stream",
     "text": [
      "[bnlearn] >Downloading example [sprinkler] dataset..\n",
      "\r",
      "  0% [                                                                           ]    0 / 1049\r",
      "100% [...........................................................................] 1049 / 1049[bnlearn] >Import dataset..\n"
     ]
    },
    {
     "data": {
      "text/html": [
       "<div>\n",
       "<style scoped>\n",
       "    .dataframe tbody tr th:only-of-type {\n",
       "        vertical-align: middle;\n",
       "    }\n",
       "\n",
       "    .dataframe tbody tr th {\n",
       "        vertical-align: top;\n",
       "    }\n",
       "\n",
       "    .dataframe thead th {\n",
       "        text-align: right;\n",
       "    }\n",
       "</style>\n",
       "<table border=\"1\" class=\"dataframe\">\n",
       "  <thead>\n",
       "    <tr style=\"text-align: right;\">\n",
       "      <th></th>\n",
       "      <th>Cloudy</th>\n",
       "      <th>Sprinkler</th>\n",
       "      <th>Rain</th>\n",
       "      <th>Wet_Grass</th>\n",
       "    </tr>\n",
       "  </thead>\n",
       "  <tbody>\n",
       "    <tr>\n",
       "      <th>0</th>\n",
       "      <td>0</td>\n",
       "      <td>0</td>\n",
       "      <td>0</td>\n",
       "      <td>0</td>\n",
       "    </tr>\n",
       "    <tr>\n",
       "      <th>1</th>\n",
       "      <td>1</td>\n",
       "      <td>0</td>\n",
       "      <td>1</td>\n",
       "      <td>1</td>\n",
       "    </tr>\n",
       "    <tr>\n",
       "      <th>2</th>\n",
       "      <td>0</td>\n",
       "      <td>1</td>\n",
       "      <td>0</td>\n",
       "      <td>1</td>\n",
       "    </tr>\n",
       "    <tr>\n",
       "      <th>3</th>\n",
       "      <td>1</td>\n",
       "      <td>1</td>\n",
       "      <td>1</td>\n",
       "      <td>1</td>\n",
       "    </tr>\n",
       "    <tr>\n",
       "      <th>4</th>\n",
       "      <td>1</td>\n",
       "      <td>1</td>\n",
       "      <td>1</td>\n",
       "      <td>1</td>\n",
       "    </tr>\n",
       "    <tr>\n",
       "      <th>...</th>\n",
       "      <td>...</td>\n",
       "      <td>...</td>\n",
       "      <td>...</td>\n",
       "      <td>...</td>\n",
       "    </tr>\n",
       "    <tr>\n",
       "      <th>995</th>\n",
       "      <td>1</td>\n",
       "      <td>0</td>\n",
       "      <td>1</td>\n",
       "      <td>1</td>\n",
       "    </tr>\n",
       "    <tr>\n",
       "      <th>996</th>\n",
       "      <td>1</td>\n",
       "      <td>0</td>\n",
       "      <td>1</td>\n",
       "      <td>1</td>\n",
       "    </tr>\n",
       "    <tr>\n",
       "      <th>997</th>\n",
       "      <td>1</td>\n",
       "      <td>0</td>\n",
       "      <td>1</td>\n",
       "      <td>1</td>\n",
       "    </tr>\n",
       "    <tr>\n",
       "      <th>998</th>\n",
       "      <td>0</td>\n",
       "      <td>0</td>\n",
       "      <td>0</td>\n",
       "      <td>0</td>\n",
       "    </tr>\n",
       "    <tr>\n",
       "      <th>999</th>\n",
       "      <td>0</td>\n",
       "      <td>1</td>\n",
       "      <td>1</td>\n",
       "      <td>1</td>\n",
       "    </tr>\n",
       "  </tbody>\n",
       "</table>\n",
       "<p>1000 rows × 4 columns</p>\n",
       "</div>"
      ],
      "text/plain": [
       "     Cloudy  Sprinkler  Rain  Wet_Grass\n",
       "0         0          0     0          0\n",
       "1         1          0     1          1\n",
       "2         0          1     0          1\n",
       "3         1          1     1          1\n",
       "4         1          1     1          1\n",
       "..      ...        ...   ...        ...\n",
       "995       1          0     1          1\n",
       "996       1          0     1          1\n",
       "997       1          0     1          1\n",
       "998       0          0     0          0\n",
       "999       0          1     1          1\n",
       "\n",
       "[1000 rows x 4 columns]"
      ]
     },
<<<<<<< HEAD
     "execution_count": 22,
=======
     "execution_count": 3,
>>>>>>> refs/remotes/origin/main
     "metadata": {},
     "output_type": "execute_result"
    }
   ],
   "source": [
    "import bnlearn as bn\n",
    "\n",
    "# load the Sprinkler dataset\n",
    "df = bn.import_example()\n",
    "\n",
    "df"
   ]
  },
  {
   "cell_type": "code",
   "execution_count": 23,
   "metadata": {
    "scrolled": false
   },
   "outputs": [
    {
     "name": "stdout",
     "output_type": "stream",
     "text": [
      "[bnlearn] >Computing best DAG using [hc]\n",
      "[bnlearn] >Set scoring type at [bic]\n",
      "[bnlearn]> Set node properties.\n",
      "[bnlearn] >Plot based on BayesianModel\n"
     ]
    },
    {
     "data": {
<<<<<<< HEAD
      "image/png": "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\n",
=======
      "image/png": "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\n",
>>>>>>> refs/remotes/origin/main
      "text/plain": [
       "<Figure size 1080x576 with 1 Axes>"
      ]
     },
     "metadata": {},
     "output_type": "display_data"
    }
   ],
   "source": [
    "# Structure Learning: obtaining the network structure\n",
    "\n",
    "model = bn.structure_learning.fit(df)\n",
    "\n",
    "G = bn.plot(model)"
   ]
  },
  {
   "cell_type": "code",
   "execution_count": 15,
   "metadata": {},
   "outputs": [
    {
     "name": "stdout",
     "output_type": "stream",
     "text": [
      "[bnlearn] >Parameter learning> Computing parameters using [bayes]\n",
      "[bnlearn] >Conversion of adjmat to BayesianModel.\n",
      "[bnlearn] >CPD of Cloudy:\n",
      "+-----------+--------------------+--------------------+\n",
      "| Rain      | Rain(0)            | Rain(1)            |\n",
      "+-----------+--------------------+--------------------+\n",
      "| Cloudy(0) | 0.6538071065989848 | 0.3389162561576355 |\n",
      "+-----------+--------------------+--------------------+\n",
      "| Cloudy(1) | 0.3461928934010152 | 0.6610837438423646 |\n",
      "+-----------+--------------------+--------------------+\n",
      "[bnlearn] >CPD of Sprinkler:\n",
      "+--------------+--------------------+--------------------+\n",
      "| Cloudy       | Cloudy(0)          | Cloudy(1)          |\n",
      "+--------------+--------------------+--------------------+\n",
      "| Sprinkler(0) | 0.4807692307692308 | 0.7075098814229249 |\n",
      "+--------------+--------------------+--------------------+\n",
      "| Sprinkler(1) | 0.5192307692307693 | 0.2924901185770751 |\n",
      "+--------------+--------------------+--------------------+\n",
      "[bnlearn] >CPD of Wet_Grass:\n",
      "+--------------+--------------------+-----+---------------------+\n",
      "| Rain         | Rain(0)            | ... | Rain(1)             |\n",
      "+--------------+--------------------+-----+---------------------+\n",
      "| Sprinkler    | Sprinkler(0)       | ... | Sprinkler(1)        |\n",
      "+--------------+--------------------+-----+---------------------+\n",
      "| Wet_Grass(0) | 0.7553816046966731 | ... | 0.37910447761194027 |\n",
      "+--------------+--------------------+-----+---------------------+\n",
      "| Wet_Grass(1) | 0.2446183953033268 | ... | 0.6208955223880597  |\n",
      "+--------------+--------------------+-----+---------------------+\n",
      "[bnlearn] >CPD of Rain:\n",
      "+---------+--------+\n",
      "| Rain(0) | 0.4925 |\n",
      "+---------+--------+\n",
      "| Rain(1) | 0.5075 |\n",
      "+---------+--------+\n",
      "[bnlearn]> Set node properties.\n",
      "[bnlearn] >Plot based on BayesianModel\n"
     ]
    },
    {
     "data": {
<<<<<<< HEAD
      "image/png": "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\n",
=======
      "image/png": "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\n",
>>>>>>> refs/remotes/origin/main
      "text/plain": [
       "<Figure size 1080x576 with 1 Axes>"
      ]
     },
     "metadata": {},
     "output_type": "display_data"
    }
   ],
   "source": [
    "# learn the parameters of the DAG using the df\n",
    "model_update = bn.parameter_learning.fit(model, df, methodtype=\"bayes\")\n",
    "\n",
    "# Make plot\n",
    "G = bn.plot(model_update)"
   ]
  },
  {
   "cell_type": "code",
   "execution_count": 16,
   "metadata": {},
   "outputs": [
    {
     "name": "stdout",
     "output_type": "stream",
     "text": [
      "[bnlearn] >Variable Elimination..\n"
     ]
    },
    {
     "data": {
      "application/vnd.jupyter.widget-view+json": {
<<<<<<< HEAD
       "model_id": "730f78e7416445b5b3c475a4a0879c18",
=======
       "model_id": "2bc688d3acfe4e41b244d733e9324187",
>>>>>>> refs/remotes/origin/main
       "version_major": 2,
       "version_minor": 0
      },
      "text/plain": [
       "0it [00:00, ?it/s]"
      ]
     },
     "metadata": {},
     "output_type": "display_data"
    },
    {
     "data": {
      "application/vnd.jupyter.widget-view+json": {
<<<<<<< HEAD
       "model_id": "93ba367008ab438d87a5b4846b3c58bc",
=======
       "model_id": "9988c5422e094524b235c85dccf9d4a9",
>>>>>>> refs/remotes/origin/main
       "version_major": 2,
       "version_minor": 0
      },
      "text/plain": [
       "0it [00:00, ?it/s]"
      ]
     },
     "metadata": {},
     "output_type": "display_data"
    },
    {
     "name": "stdout",
     "output_type": "stream",
     "text": [
      "+----+-------------+----------+\n",
      "|    |   Wet_Grass |        p |\n",
      "+====+=============+==========+\n",
      "|  0 |           0 | 0.255882 |\n",
      "+----+-------------+----------+\n",
      "|  1 |           1 | 0.744118 |\n",
      "+----+-------------+----------+\n",
      "[bnlearn] >Variable Elimination..\n"
     ]
    },
    {
     "data": {
      "application/vnd.jupyter.widget-view+json": {
<<<<<<< HEAD
       "model_id": "c6116c7ba89b4b80892d5f9968ea3de4",
=======
       "model_id": "b10a56631650446ea15112a398182b5c",
>>>>>>> refs/remotes/origin/main
       "version_major": 2,
       "version_minor": 0
      },
      "text/plain": [
       "  0%|          | 0/2 [00:00<?, ?it/s]"
      ]
     },
     "metadata": {},
     "output_type": "display_data"
    },
    {
     "data": {
      "application/vnd.jupyter.widget-view+json": {
<<<<<<< HEAD
       "model_id": "a9f33cf6dc984598ad6f52a959077dbc",
=======
       "model_id": "3001e825eb154e93acfd6bec9b6250cb",
>>>>>>> refs/remotes/origin/main
       "version_major": 2,
       "version_minor": 0
      },
      "text/plain": [
       "  0%|          | 0/2 [00:00<?, ?it/s]"
      ]
     },
     "metadata": {},
     "output_type": "display_data"
    },
    {
     "name": "stdout",
     "output_type": "stream",
     "text": [
      "+----+-------------+----------+\n",
      "|    |   Wet_Grass |        p |\n",
      "+====+=============+==========+\n",
      "|  0 |           0 | 0.301393 |\n",
      "+----+-------------+----------+\n",
      "|  1 |           1 | 0.698607 |\n",
      "+----+-------------+----------+\n"
     ]
    }
   ],
   "source": [
    "# performing inference\n",
    "q_1 = bn.inference.fit(model_update, variables=['Wet_Grass'], evidence={'Cloudy':1,'Sprinkler':0, 'Rain':1})\n",
    "q_2 = bn.inference.fit(model_update, variables=['Wet_Grass'], evidence={'Rain':1})"
   ]
  },
  {
   "cell_type": "markdown",
   "metadata": {},
   "source": [
    "<div class='alert alert-block alert-success' style=\"font-weight:bolder\">\n",
    "\n",
    "### Task 1\n",
    "\n",
    "Learn a Bayesian Network of the artificial smart grid data set. Construct the network make inference for the following:\n",
    "\n",
    "- P(Outage_Duration=Less_than_1H | Time=Morning, Demand_Factor=Medium)\n",
    "- P(Demand_Factor=High | Overload=Yes, Weather=Cold)\n",
    "- P(Number_of_Customers=Low | Demand_Factor=High)\n"
   ]
  },
  {
   "cell_type": "code",
<<<<<<< HEAD
   "execution_count": 17,
=======
   "execution_count": 11,
>>>>>>> refs/remotes/origin/main
   "metadata": {
    "scrolled": false
   },
   "outputs": [
    {
     "name": "stdout",
     "output_type": "stream",
     "text": [
      "Index(['Season', 'Outage_Duration', 'Number_of_Customers', 'Overload',\n",
      "       'Weather', 'Time', 'Demand_Factor', 'Day'],\n",
      "      dtype='object')\n"
     ]
    },
    {
     "data": {
      "text/html": [
       "<div>\n",
       "<style scoped>\n",
       "    .dataframe tbody tr th:only-of-type {\n",
       "        vertical-align: middle;\n",
       "    }\n",
       "\n",
       "    .dataframe tbody tr th {\n",
       "        vertical-align: top;\n",
       "    }\n",
       "\n",
       "    .dataframe thead th {\n",
       "        text-align: right;\n",
       "    }\n",
       "</style>\n",
       "<table border=\"1\" class=\"dataframe\">\n",
       "  <thead>\n",
       "    <tr style=\"text-align: right;\">\n",
       "      <th></th>\n",
       "      <th>Season</th>\n",
       "      <th>Outage_Duration</th>\n",
       "      <th>Number_of_Customers</th>\n",
       "      <th>Overload</th>\n",
       "      <th>Weather</th>\n",
       "      <th>Time</th>\n",
       "      <th>Demand_Factor</th>\n",
       "      <th>Day</th>\n",
       "    </tr>\n",
       "  </thead>\n",
       "  <tbody>\n",
       "    <tr>\n",
       "      <th>0</th>\n",
       "      <td>Autumn</td>\n",
       "      <td>Less_than_1H</td>\n",
       "      <td>Low</td>\n",
       "      <td>Yes</td>\n",
       "      <td>Cold</td>\n",
       "      <td>Morning</td>\n",
       "      <td>Low</td>\n",
       "      <td>Weekdays</td>\n",
       "    </tr>\n",
       "    <tr>\n",
       "      <th>1</th>\n",
       "      <td>Winter</td>\n",
       "      <td>Less_than_1H</td>\n",
       "      <td>Low</td>\n",
       "      <td>No</td>\n",
       "      <td>Cold</td>\n",
       "      <td>Evening</td>\n",
       "      <td>Low</td>\n",
       "      <td>Weekdays</td>\n",
       "    </tr>\n",
       "    <tr>\n",
       "      <th>2</th>\n",
       "      <td>Spring</td>\n",
       "      <td>More_than_1H</td>\n",
       "      <td>Low</td>\n",
       "      <td>No</td>\n",
       "      <td>Cold</td>\n",
       "      <td>Evening</td>\n",
       "      <td>Low</td>\n",
       "      <td>Weekdays</td>\n",
       "    </tr>\n",
       "    <tr>\n",
       "      <th>3</th>\n",
       "      <td>Winter</td>\n",
       "      <td>Less_than_1H</td>\n",
       "      <td>High</td>\n",
       "      <td>No</td>\n",
       "      <td>Warm</td>\n",
       "      <td>Morning</td>\n",
       "      <td>Low</td>\n",
       "      <td>Weekdays</td>\n",
       "    </tr>\n",
       "    <tr>\n",
       "      <th>4</th>\n",
       "      <td>Spring</td>\n",
       "      <td>More_than_1H</td>\n",
       "      <td>Low</td>\n",
       "      <td>No</td>\n",
       "      <td>Cold</td>\n",
       "      <td>Morning</td>\n",
       "      <td>Low</td>\n",
       "      <td>Weekend</td>\n",
       "    </tr>\n",
       "    <tr>\n",
       "      <th>...</th>\n",
       "      <td>...</td>\n",
       "      <td>...</td>\n",
       "      <td>...</td>\n",
       "      <td>...</td>\n",
       "      <td>...</td>\n",
       "      <td>...</td>\n",
       "      <td>...</td>\n",
       "      <td>...</td>\n",
       "    </tr>\n",
       "    <tr>\n",
       "      <th>695</th>\n",
       "      <td>Autumn</td>\n",
       "      <td>Less_than_1H</td>\n",
       "      <td>Low</td>\n",
       "      <td>Yes</td>\n",
       "      <td>Cold</td>\n",
       "      <td>Afternoon</td>\n",
       "      <td>High</td>\n",
       "      <td>Weekend</td>\n",
       "    </tr>\n",
       "    <tr>\n",
       "      <th>696</th>\n",
       "      <td>Summer</td>\n",
       "      <td>More_than_1H</td>\n",
       "      <td>Low</td>\n",
       "      <td>No</td>\n",
       "      <td>Warm</td>\n",
       "      <td>Evening</td>\n",
       "      <td>Medium</td>\n",
       "      <td>Weekend</td>\n",
       "    </tr>\n",
       "    <tr>\n",
       "      <th>697</th>\n",
       "      <td>Winter</td>\n",
       "      <td>Less_than_1H</td>\n",
       "      <td>High</td>\n",
       "      <td>Yes</td>\n",
       "      <td>Cold</td>\n",
       "      <td>Evening</td>\n",
       "      <td>Medium</td>\n",
       "      <td>Weekdays</td>\n",
       "    </tr>\n",
       "    <tr>\n",
       "      <th>698</th>\n",
       "      <td>Autumn</td>\n",
       "      <td>More_than_1H</td>\n",
       "      <td>Low</td>\n",
       "      <td>No</td>\n",
       "      <td>Cold</td>\n",
       "      <td>Afternoon</td>\n",
       "      <td>High</td>\n",
       "      <td>Weekend</td>\n",
       "    </tr>\n",
       "    <tr>\n",
       "      <th>699</th>\n",
       "      <td>Spring</td>\n",
       "      <td>Less_than_1H</td>\n",
       "      <td>High</td>\n",
       "      <td>No</td>\n",
       "      <td>Warm</td>\n",
       "      <td>Morning</td>\n",
       "      <td>Low</td>\n",
       "      <td>Weekdays</td>\n",
       "    </tr>\n",
       "  </tbody>\n",
       "</table>\n",
       "<p>700 rows × 8 columns</p>\n",
       "</div>"
      ],
      "text/plain": [
       "     Season Outage_Duration Number_of_Customers Overload Weather       Time  \\\n",
       "0    Autumn    Less_than_1H                 Low      Yes    Cold    Morning   \n",
       "1    Winter    Less_than_1H                 Low       No    Cold    Evening   \n",
       "2    Spring    More_than_1H                 Low       No    Cold    Evening   \n",
       "3    Winter    Less_than_1H                High       No    Warm    Morning   \n",
       "4    Spring    More_than_1H                 Low       No    Cold    Morning   \n",
       "..      ...             ...                 ...      ...     ...        ...   \n",
       "695  Autumn    Less_than_1H                 Low      Yes    Cold  Afternoon   \n",
       "696  Summer    More_than_1H                 Low       No    Warm    Evening   \n",
       "697  Winter    Less_than_1H                High      Yes    Cold    Evening   \n",
       "698  Autumn    More_than_1H                 Low       No    Cold  Afternoon   \n",
       "699  Spring    Less_than_1H                High       No    Warm    Morning   \n",
       "\n",
       "    Demand_Factor       Day  \n",
       "0             Low  Weekdays  \n",
       "1             Low  Weekdays  \n",
       "2             Low  Weekdays  \n",
       "3             Low  Weekdays  \n",
       "4             Low   Weekend  \n",
       "..            ...       ...  \n",
       "695          High   Weekend  \n",
       "696        Medium   Weekend  \n",
       "697        Medium  Weekdays  \n",
       "698          High   Weekend  \n",
       "699           Low  Weekdays  \n",
       "\n",
       "[700 rows x 8 columns]"
      ]
     },
<<<<<<< HEAD
     "execution_count": 17,
=======
     "execution_count": 11,
>>>>>>> refs/remotes/origin/main
     "metadata": {},
     "output_type": "execute_result"
    }
   ],
   "source": [
    "import pandas as pd\n",
    "\n",
    "file = 'smart_grid.xlsx'\n",
    "\n",
    "df_sg = data = pd.read_excel(file)\n",
    "\n",
    "print(df_sg.columns)\n",
    "df_sg"
   ]
  },
  {
   "cell_type": "code",
<<<<<<< HEAD
   "execution_count": 18,
=======
   "execution_count": 12,
>>>>>>> refs/remotes/origin/main
   "metadata": {},
   "outputs": [
    {
     "name": "stdout",
     "output_type": "stream",
     "text": [
      "[bnlearn] >Computing best DAG using [hc]\n",
      "[bnlearn] >Set scoring type at [bic]\n",
      "[bnlearn] >Parameter learning> Computing parameters using [bayes]\n",
      "[bnlearn] >Conversion of adjmat to BayesianModel.\n",
      "[bnlearn] >CPD of Outage_Duration:\n",
      "+-------------------------------+--------------------+---------------------+\n",
      "| Overload                      | Overload(No)       | Overload(Yes)       |\n",
      "+-------------------------------+--------------------+---------------------+\n",
      "| Outage_Duration(Less_than_1H) | 0.3964248159831756 | 0.5874499332443258  |\n",
      "+-------------------------------+--------------------+---------------------+\n",
      "| Outage_Duration(More_than_1H) | 0.6035751840168244 | 0.41255006675567424 |\n",
      "+-------------------------------+--------------------+---------------------+\n",
      "[bnlearn] >CPD of Weather:\n",
      "+-----------------+-----+-------------------------------+\n",
      "| Outage_Duration | ... | Outage_Duration(More_than_1H) |\n",
      "+-----------------+-----+-------------------------------+\n",
      "| Weather( Cold)  | ... | 0.579841449603624             |\n",
      "+-----------------+-----+-------------------------------+\n",
      "| Weather( Warm)  | ... | 0.420158550396376             |\n",
      "+-----------------+-----+-------------------------------+\n",
      "[bnlearn] >CPD of Number_of_Customers:\n",
      "+---------------------------+----------+\n",
      "| Number_of_Customers(High) | 0.461176 |\n",
      "+---------------------------+----------+\n",
      "| Number_of_Customers(Low)  | 0.538824 |\n",
      "+---------------------------+----------+\n",
      "[bnlearn] >CPD of Overload:\n",
      "+---------------------+-----+--------------------------+\n",
      "| Demand_Factor       | ... | Demand_Factor(Medium)    |\n",
      "+---------------------+-----+--------------------------+\n",
      "| Number_of_Customers | ... | Number_of_Customers(Low) |\n",
      "+---------------------+-----+--------------------------+\n",
      "| Overload(No)        | ... | 0.6346396965865992       |\n",
      "+---------------------+-----+--------------------------+\n",
      "| Overload(Yes)       | ... | 0.3653603034134008       |\n",
      "+---------------------+-----+--------------------------+\n",
      "[bnlearn] >CPD of Season:\n",
      "+----------------+---------------------+---------------------+\n",
      "| Weather        | Weather( Cold)      | Weather( Warm)      |\n",
      "+----------------+---------------------+---------------------+\n",
      "| Season(Autumn) | 0.26673866090712745 | 0.23772609819121446 |\n",
      "+----------------+---------------------+---------------------+\n",
      "| Season(Spring) | 0.24622030237580994 | 0.2467700258397933  |\n",
      "+----------------+---------------------+---------------------+\n",
      "| Season(Summer) | 0.17818574514038876 | 0.3372093023255814  |\n",
      "+----------------+---------------------+---------------------+\n",
      "| Season(Winter) | 0.30885529157667385 | 0.17829457364341086 |\n",
      "+----------------+---------------------+---------------------+\n",
      "[bnlearn] >CPD of Time:\n",
      "+-----------------+----------+\n",
      "| Time(Afternoon) | 0.267647 |\n",
      "+-----------------+----------+\n",
      "| Time(Evening)   | 0.267647 |\n",
      "+-----------------+----------+\n",
      "| Time(Morning)   | 0.277647 |\n",
      "+-----------------+----------+\n",
      "| Time(Night)     | 0.187059 |\n",
      "+-----------------+----------+\n",
      "[bnlearn] >CPD of Demand_Factor:\n",
      "+-----------------------+-----+---------------------+\n",
      "| Day                   | ... | Day(Weekend)        |\n",
      "+-----------------------+-----+---------------------+\n",
      "| Time                  | ... | Time(Night)         |\n",
      "+-----------------------+-----+---------------------+\n",
      "| Demand_Factor(High)   | ... | 0.2882882882882883  |\n",
      "+-----------------------+-----+---------------------+\n",
      "| Demand_Factor(Low)    | ... | 0.35585585585585583 |\n",
      "+-----------------------+-----+---------------------+\n",
      "| Demand_Factor(Medium) | ... | 0.35585585585585583 |\n",
      "+-----------------------+-----+---------------------+\n",
      "[bnlearn] >CPD of Day:\n",
      "+---------------+----------+\n",
      "| Day(Weekdays) | 0.543529 |\n",
      "+---------------+----------+\n",
      "| Day(Weekend)  | 0.456471 |\n",
      "+---------------+----------+\n"
     ]
    }
   ],
   "source": [
    "model = bn.structure_learning.fit(data)\n",
    "model_update = bn.parameter_learning.fit(model, data, methodtype=\"bayes\")\n"
   ]
  },
  {
   "cell_type": "code",
<<<<<<< HEAD
   "execution_count": 19,
=======
   "execution_count": 17,
>>>>>>> refs/remotes/origin/main
   "metadata": {},
   "outputs": [
    {
     "name": "stdout",
     "output_type": "stream",
     "text": [
      "[bnlearn] >Variable Elimination..\n"
     ]
    },
    {
     "data": {
      "application/vnd.jupyter.widget-view+json": {
<<<<<<< HEAD
       "model_id": "08460e0fc27846899f17823aaf6f6874",
=======
       "model_id": "0ac78083dc434334b4b83808c0837c12",
>>>>>>> refs/remotes/origin/main
       "version_major": 2,
       "version_minor": 0
      },
      "text/plain": [
       "  0%|          | 0/2 [00:00<?, ?it/s]"
      ]
     },
     "metadata": {},
     "output_type": "display_data"
    },
    {
     "data": {
      "application/vnd.jupyter.widget-view+json": {
<<<<<<< HEAD
       "model_id": "923bf1ecb9264ec38aeebf4429801004",
=======
       "model_id": "dd9a2044f1684e379ecc1439677b3d4e",
>>>>>>> refs/remotes/origin/main
       "version_major": 2,
       "version_minor": 0
      },
      "text/plain": [
       "  0%|          | 0/2 [00:00<?, ?it/s]"
      ]
     },
     "metadata": {},
     "output_type": "display_data"
    },
    {
     "name": "stdout",
     "output_type": "stream",
     "text": [
      "+----+-------------------+----------+\n",
      "|    |   Outage_Duration |        p |\n",
      "+====+===================+==========+\n",
      "|  0 |                 0 | 0.482832 |\n",
      "+----+-------------------+----------+\n",
      "|  1 |                 1 | 0.517168 |\n",
      "+----+-------------------+----------+\n",
      "+-------------------------------+------------------------+\n",
      "| Outage_Duration               |   phi(Outage_Duration) |\n",
      "+===============================+========================+\n",
      "| Outage_Duration(Less_than_1H) |                 0.4828 |\n",
      "+-------------------------------+------------------------+\n",
      "| Outage_Duration(More_than_1H) |                 0.5172 |\n",
      "+-------------------------------+------------------------+\n"
     ]
    }
   ],
   "source": [
    "q_1 = bn.inference.fit(model_update, variables=['Outage_Duration'], evidence={'Time':'Morning','Demand_Factor':'Medium'})\n",
    "print(q_1)"
   ]
  },
  {
   "cell_type": "code",
<<<<<<< HEAD
   "execution_count": 20,
=======
   "execution_count": 16,
>>>>>>> refs/remotes/origin/main
   "metadata": {},
   "outputs": [
    {
     "name": "stdout",
     "output_type": "stream",
     "text": [
      "[bnlearn] >Variable Elimination..\n"
     ]
    },
    {
     "data": {
      "application/vnd.jupyter.widget-view+json": {
<<<<<<< HEAD
       "model_id": "6c471c4bf4054f9f84cbcba9688badc8",
=======
       "model_id": "5a72eb4448d64edbbadc6ade3f4cb1d7",
>>>>>>> refs/remotes/origin/main
       "version_major": 2,
       "version_minor": 0
      },
      "text/plain": [
       "  0%|          | 0/3 [00:00<?, ?it/s]"
      ]
     },
     "metadata": {},
     "output_type": "display_data"
    },
    {
     "data": {
      "application/vnd.jupyter.widget-view+json": {
<<<<<<< HEAD
       "model_id": "48efb5c08dac4224b176617b351beaeb",
=======
       "model_id": "287c7d8a92ed479c8366856c26beb31d",
>>>>>>> refs/remotes/origin/main
       "version_major": 2,
       "version_minor": 0
      },
      "text/plain": [
       "  0%|          | 0/3 [00:00<?, ?it/s]"
      ]
     },
     "metadata": {},
     "output_type": "display_data"
    },
    {
     "name": "stdout",
     "output_type": "stream",
     "text": [
      "+----+-----------------+----------+\n",
      "|    |   Demand_Factor |        p |\n",
      "+====+=================+==========+\n",
      "|  0 |               0 | 0.367494 |\n",
      "+----+-----------------+----------+\n",
      "|  1 |               1 | 0.33314  |\n",
      "+----+-----------------+----------+\n",
      "|  2 |               2 | 0.299365 |\n",
      "+----+-----------------+----------+\n",
      "+-----------------------+----------------------+\n",
      "| Demand_Factor         |   phi(Demand_Factor) |\n",
      "+=======================+======================+\n",
      "| Demand_Factor(High)   |               0.3675 |\n",
      "+-----------------------+----------------------+\n",
      "| Demand_Factor(Low)    |               0.3331 |\n",
      "+-----------------------+----------------------+\n",
      "| Demand_Factor(Medium) |               0.2994 |\n",
      "+-----------------------+----------------------+\n"
     ]
    }
   ],
   "source": [
    "q_2 = bn.inference.fit(model_update, variables=['Demand_Factor'], evidence={'Overload':'Yes','Weather':' Cold'})\n",
    "print(q_2)"
   ]
  },
  {
   "cell_type": "code",
<<<<<<< HEAD
   "execution_count": 21,
=======
   "execution_count": 18,
>>>>>>> refs/remotes/origin/main
   "metadata": {},
   "outputs": [
    {
     "name": "stdout",
     "output_type": "stream",
     "text": [
      "[bnlearn] >Variable Elimination..\n"
     ]
    },
    {
     "data": {
      "application/vnd.jupyter.widget-view+json": {
<<<<<<< HEAD
       "model_id": "cc9adbfced9d4031a76da8d5e8f7dcdd",
=======
       "model_id": "f94a4b1acc554e75b2c81f1923674fec",
>>>>>>> refs/remotes/origin/main
       "version_major": 2,
       "version_minor": 0
      },
      "text/plain": [
       "0it [00:00, ?it/s]"
      ]
     },
     "metadata": {},
     "output_type": "display_data"
    },
    {
     "data": {
      "application/vnd.jupyter.widget-view+json": {
<<<<<<< HEAD
       "model_id": "764ede74478b4691ba9663701269a9d7",
=======
       "model_id": "a8874bae445c447d840e903a6bba2128",
>>>>>>> refs/remotes/origin/main
       "version_major": 2,
       "version_minor": 0
      },
      "text/plain": [
       "0it [00:00, ?it/s]"
      ]
     },
     "metadata": {},
     "output_type": "display_data"
    },
    {
     "name": "stdout",
     "output_type": "stream",
     "text": [
      "+----+-----------------------+----------+\n",
      "|    |   Number_of_Customers |        p |\n",
      "+====+=======================+==========+\n",
      "|  0 |                     0 | 0.461176 |\n",
      "+----+-----------------------+----------+\n",
      "|  1 |                     1 | 0.538824 |\n",
      "+----+-----------------------+----------+\n",
      "+---------------------------+----------------------------+\n",
      "| Number_of_Customers       |   phi(Number_of_Customers) |\n",
      "+===========================+============================+\n",
      "| Number_of_Customers(High) |                     0.4612 |\n",
      "+---------------------------+----------------------------+\n",
      "| Number_of_Customers(Low)  |                     0.5388 |\n",
      "+---------------------------+----------------------------+\n"
     ]
    }
   ],
   "source": [
    "q_3 = bn.inference.fit(model_update, variables=['Number_of_Customers'], evidence={'Demand_Factor':'High'})\n",
    "print(q_3)"
   ]
  },
  {
   "cell_type": "code",
   "execution_count": null,
   "metadata": {},
   "outputs": [],
   "source": []
  },
  {
   "cell_type": "code",
   "execution_count": null,
   "metadata": {},
   "outputs": [],
   "source": []
  }
 ],
 "metadata": {
  "kernelspec": {
   "display_name": "Python 3 (ipykernel)",
   "language": "python",
   "name": "python3"
  },
  "language_info": {
   "codemirror_mode": {
    "name": "ipython",
    "version": 3
   },
   "file_extension": ".py",
   "mimetype": "text/x-python",
   "name": "python",
   "nbconvert_exporter": "python",
   "pygments_lexer": "ipython3",
   "version": "3.9.9"
  }
 },
 "nbformat": 4,
 "nbformat_minor": 4
}
