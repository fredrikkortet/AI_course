{
 "cells": [
  {
   "cell_type": "code",
   "execution_count": null,
   "metadata": {},
   "outputs": [],
   "source": [
    "!pip install xlrd pandas\n",
    "!pip install bnlearn"
   ]
  },
  {
   "cell_type": "markdown",
   "metadata": {},
   "source": [
    "# Bayesian Networks\n",
    "\n",
    "In this notebool, we will use bnlearn package to generate Bayesian Networks, based on structure learning and parameter learning. The generated Bayesian Networks will be used for inference. Using bnlearn package to learn a Bayesian network can be split into two problems:\n",
    "\n",
    "- Structure learning: Given a set of data samples, estimate a DAG that captures the dependencies between the variables.\n",
    "\n",
    "- Parameter learning: Given a set of data samples and a DAG that captures the dependencies between the variables, estimate the (conditional) probability distributions of the individual variables."
   ]
  },
  {
   "cell_type": "markdown",
   "metadata": {},
   "source": [
    "### Example: Building Bayesian Network and making inferences with Sprinkler data set"
   ]
  },
  {
   "cell_type": "code",
   "execution_count": null,
   "metadata": {},
   "outputs": [],
   "source": [
    "import bnlearn as bn\n",
    "\n",
    "# load the Sprinkler dataset\n",
    "df = bn.import_example()\n",
    "\n",
    "df"
   ]
  },
  {
   "cell_type": "code",
   "execution_count": null,
   "metadata": {
    "scrolled": false
   },
   "outputs": [],
   "source": [
    "# Structure Learning: obtaining the network structure\n",
    "\n",
    "model = bn.structure_learning.fit(df)\n",
    "\n",
    "G = bn.plot(model)"
   ]
  },
  {
   "cell_type": "code",
   "execution_count": null,
   "metadata": {},
   "outputs": [],
   "source": [
    "# learn the parameters of the DAG using the df\n",
    "model_update = bn.parameter_learning.fit(model, df, methodtype=\"bayes\")\n",
    "\n",
    "# Make plot\n",
    "G = bn.plot(model_update)"
   ]
  },
  {
   "cell_type": "code",
   "execution_count": null,
   "metadata": {},
   "outputs": [],
   "source": [
    "# performing inference\n",
    "q_1 = bn.inference.fit(model_update, variables=['Wet_Grass'], evidence={'Cloudy':1,'Sprinkler':0, 'Rain':1})\n",
    "q_2 = bn.inference.fit(model_update, variables=['Wet_Grass'], evidence={'Rain':1})"
   ]
  },
  {
   "cell_type": "markdown",
   "metadata": {},
   "source": [
    "<div class='alert alert-block alert-success' style=\"font-weight:bolder\">\n",
    "\n",
    "### Task 1\n",
    "\n",
    "Learn a Bayesian Network of the artificial smart grid data set. Construct the network make inference for the following:\n",
    "\n",
    "- P(Outage_Duration=Less_than_1H | Time=Morning, Demand_Factor=Medium)\n",
    "- P(Demand_Factor=High | Overload=Yes, Weather=Cold)\n",
    "- P(Number_of_Customers=Low | Demand_Factor=High)\n"
   ]
  },
  {
   "cell_type": "code",
   "execution_count": null,
   "metadata": {
    "scrolled": false
   },
   "outputs": [],
   "source": [
    "import pandas as pd\n",
    "\n",
    "file = \"./smart_grid.xlsx\"\n",
    "\n",
    "df_sg = data = pd.read_excel(file)\n",
    "\n",
    "print(df_sg.columns)\n",
    "df_sg"
   ]
  },
  {
   "cell_type": "code",
   "execution_count": null,
   "metadata": {},
   "outputs": [],
   "source": []
  }
 ],
 "metadata": {
  "kernelspec": {
   "display_name": "BNLEARN",
   "language": "python",
   "name": "bnlearn"
  },
  "language_info": {
   "codemirror_mode": {
    "name": "ipython",
    "version": 3
   },
   "file_extension": ".py",
   "mimetype": "text/x-python",
   "name": "python",
   "nbconvert_exporter": "python",
   "pygments_lexer": "ipython3",
   "version": "3.6.12"
  }
 },
 "nbformat": 4,
 "nbformat_minor": 4
}
