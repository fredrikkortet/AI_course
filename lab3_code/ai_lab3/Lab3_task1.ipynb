{
 "cells": [
  {
   "cell_type": "code",
   "execution_count": 2,
   "metadata": {},
   "outputs": [
    {
     "name": "stdout",
     "output_type": "stream",
     "text": [
      "\u001b]4;0;#073642\u001b\\\u001b]4;1;#dc322f\u001b\\\u001b]4;2;#859900\u001b\\\u001b]4;3;#b58900\u001b\\\u001b]4;4;#268bd2\u001b\\\u001b]4;5;#d33682\u001b\\\u001b]4;6;#2aa198\u001b\\\u001b]4;7;#eee8d5\u001b\\\u001b]4;8;#6c7c80\u001b\\\u001b]4;9;#dc322f\u001b\\\u001b]4;10;#859900\u001b\\\u001b]4;11;#b58900\u001b\\\u001b]4;12;#268bd2\u001b\\\u001b]4;13;#d33682\u001b\\\u001b]4;14;#2aa198\u001b\\\u001b]4;15;#eee8d5\u001b\\\u001b]10;#fdf6e3\u001b\\\u001b]11;#073642\u001b\\\u001b]12;#dc322f\u001b\\\u001b]13;#fdf6e3\u001b\\\u001b]17;#fdf6e3\u001b\\\u001b]19;#073642\u001b\\\u001b]4;232;#073642\u001b\\\u001b]4;256;#fdf6e3\u001b\\\u001b]4;257;#073642\u001b\\\u001b]708;#073642\u001b\\Defaulting to user installation because normal site-packages is not writeable\n",
      "Requirement already satisfied: openpyxl in /home/tipparn/.local/lib/python3.9/site-packages (3.0.9)\n",
      "Requirement already satisfied: pandas in /home/tipparn/.local/lib/python3.9/site-packages (1.3.2)\n",
      "Requirement already satisfied: et-xmlfile in /home/tipparn/.local/lib/python3.9/site-packages (from openpyxl) (1.1.0)\n",
      "Requirement already satisfied: python-dateutil>=2.7.3 in /usr/lib/python3.9/site-packages (from pandas) (2.8.2)\n",
      "Requirement already satisfied: numpy>=1.17.3 in /usr/lib/python3.9/site-packages (from pandas) (1.21.3)\n",
      "Requirement already satisfied: pytz>=2017.3 in /usr/lib/python3.9/site-packages (from pandas) (2021.3)\n",
      "Requirement already satisfied: six>=1.5 in /usr/lib/python3.9/site-packages (from python-dateutil>=2.7.3->pandas) (1.16.0)\n",
      "\u001b]4;0;#073642\u001b\\\u001b]4;1;#dc322f\u001b\\\u001b]4;2;#859900\u001b\\\u001b]4;3;#b58900\u001b\\\u001b]4;4;#268bd2\u001b\\\u001b]4;5;#d33682\u001b\\\u001b]4;6;#2aa198\u001b\\\u001b]4;7;#eee8d5\u001b\\\u001b]4;8;#6c7c80\u001b\\\u001b]4;9;#dc322f\u001b\\\u001b]4;10;#859900\u001b\\\u001b]4;11;#b58900\u001b\\\u001b]4;12;#268bd2\u001b\\\u001b]4;13;#d33682\u001b\\\u001b]4;14;#2aa198\u001b\\\u001b]4;15;#eee8d5\u001b\\\u001b]10;#fdf6e3\u001b\\\u001b]11;#073642\u001b\\\u001b]12;#dc322f\u001b\\\u001b]13;#fdf6e3\u001b\\\u001b]17;#fdf6e3\u001b\\\u001b]19;#073642\u001b\\\u001b]4;232;#073642\u001b\\\u001b]4;256;#fdf6e3\u001b\\\u001b]4;257;#073642\u001b\\\u001b]708;#073642\u001b\\Defaulting to user installation because normal site-packages is not writeable\n",
      "Collecting bnlearn\n",
      "  Using cached bnlearn-0.4.8-py3-none-any.whl (42 kB)\n",
      "Collecting pgmpy>=0.1.13\n",
      "  Using cached pgmpy-0.1.16-py3-none-any.whl (1.9 MB)\n",
      "Requirement already satisfied: numpy in /usr/lib/python3.9/site-packages (from bnlearn) (1.21.3)\n",
      "Collecting ismember\n",
      "  Using cached ismember-1.0.0-py3-none-any.whl (6.4 kB)\n",
      "Collecting networkx>2.5\n",
      "  Using cached networkx-2.6.3-py3-none-any.whl (1.9 MB)\n",
      "Requirement already satisfied: pandas in /home/tipparn/.local/lib/python3.9/site-packages (from bnlearn) (1.3.2)\n",
      "Requirement already satisfied: matplotlib>=3.3.4 in /usr/lib/python3.9/site-packages (from bnlearn) (3.4.2)\n",
      "Requirement already satisfied: sklearn in /home/tipparn/.local/lib/python3.9/site-packages (from bnlearn) (0.0)\n",
      "Collecting community\n",
      "  Using cached community-1.0.0b1.tar.gz (2.2 kB)\n",
      "Collecting df2onehot\n",
      "  Using cached df2onehot-1.0.0-py3-none-any.whl (13 kB)\n",
      "Collecting fsspec\n",
      "  Using cached fsspec-2021.11.1-py3-none-any.whl (132 kB)\n",
      "Collecting pypickle\n",
      "  Using cached pypickle-1.0.0-py3-none-any.whl (4.5 kB)\n",
      "Collecting wget\n",
      "  Using cached wget-3.2.zip (10 kB)\n",
      "Collecting tqdm\n",
      "  Using cached tqdm-4.62.3-py2.py3-none-any.whl (76 kB)\n",
      "Requirement already satisfied: tabulate in /home/tipparn/.local/lib/python3.9/site-packages (from bnlearn) (0.8.9)\n",
      "Requirement already satisfied: packaging in /usr/lib/python3.9/site-packages (from bnlearn) (20.9)\n",
      "Collecting statsmodels\n",
      "  Using cached statsmodels-0.13.1-cp39-cp39-manylinux_2_17_x86_64.manylinux2014_x86_64.whl (9.9 MB)\n",
      "Collecting funcsigs\n",
      "  Using cached funcsigs-1.0.2-py2.py3-none-any.whl (17 kB)\n",
      "Requirement already satisfied: cycler>=0.10 in /usr/lib/python3.9/site-packages (from matplotlib>=3.3.4->bnlearn) (0.10.0)\n",
      "Requirement already satisfied: pyparsing>=2.2.1 in /usr/lib/python3.9/site-packages (from matplotlib>=3.3.4->bnlearn) (2.4.7)\n",
      "Requirement already satisfied: kiwisolver>=1.0.1 in /usr/lib/python3.9/site-packages (from matplotlib>=3.3.4->bnlearn) (1.3.1)\n",
      "Requirement already satisfied: python-dateutil>=2.7 in /usr/lib/python3.9/site-packages (from matplotlib>=3.3.4->bnlearn) (2.8.2)\n",
      "Requirement already satisfied: pillow>=6.2.0 in /usr/lib/python3.9/site-packages (from matplotlib>=3.3.4->bnlearn) (8.4.0)\n",
      "Requirement already satisfied: six in /usr/lib/python3.9/site-packages (from cycler>=0.10->matplotlib>=3.3.4->bnlearn) (1.16.0)\n",
      "Collecting torch\n",
      "  Downloading torch-1.10.0-cp39-cp39-manylinux1_x86_64.whl (881.9 MB)\n",
      "     |████████████████████████████████| 881.9 MB 2.1 kB/s             \n",
      "\u001b[?25hRequirement already satisfied: joblib in /home/tipparn/.local/lib/python3.9/site-packages (from pgmpy>=0.1.13->bnlearn) (1.1.0)\n",
      "Requirement already satisfied: scikit-learn in /home/tipparn/.local/lib/python3.9/site-packages (from pgmpy>=0.1.13->bnlearn) (1.0.1)\n",
      "Requirement already satisfied: scipy in /usr/lib/python3.9/site-packages (from pgmpy>=0.1.13->bnlearn) (1.7.3)\n",
      "Collecting Flask\n",
      "  Downloading Flask-2.0.2-py3-none-any.whl (95 kB)\n",
      "     |████████████████████████████████| 95 kB 6.2 MB/s             \n",
      "\u001b[?25hRequirement already satisfied: requests in /usr/lib/python3.9/site-packages (from community->bnlearn) (2.26.0)\n",
      "Collecting Werkzeug>=2.0\n",
      "  Downloading Werkzeug-2.0.2-py3-none-any.whl (288 kB)\n",
      "     |████████████████████████████████| 288 kB 12.0 MB/s            \n",
      "\u001b[?25hRequirement already satisfied: Jinja2>=3.0 in /usr/lib/python3.9/site-packages (from Flask->community->bnlearn) (3.0.3)\n",
      "Collecting itsdangerous>=2.0\n",
      "  Downloading itsdangerous-2.0.1-py3-none-any.whl (18 kB)\n",
      "Requirement already satisfied: click>=7.1.2 in /usr/lib/python3.9/site-packages (from Flask->community->bnlearn) (8.0.3)\n",
      "Requirement already satisfied: MarkupSafe>=2.0 in /usr/lib/python3.9/site-packages (from Jinja2>=3.0->Flask->community->bnlearn) (2.0.1)\n",
      "Requirement already satisfied: pytz>=2017.3 in /usr/lib/python3.9/site-packages (from pandas->bnlearn) (2021.3)\n",
      "Requirement already satisfied: chardet>=3.0.2 in /usr/lib/python3.9/site-packages (from requests->community->bnlearn) (4.0.0)\n",
      "Requirement already satisfied: idna>=2.5 in /usr/lib/python3.9/site-packages (from requests->community->bnlearn) (3.3)\n",
      "Requirement already satisfied: urllib3>=1.21.1 in /usr/lib/python3.9/site-packages (from requests->community->bnlearn) (1.26.7)\n",
      "Requirement already satisfied: threadpoolctl>=2.0.0 in /home/tipparn/.local/lib/python3.9/site-packages (from scikit-learn->pgmpy>=0.1.13->bnlearn) (3.0.0)\n",
      "Collecting patsy>=0.5.2\n",
      "  Downloading patsy-0.5.2-py2.py3-none-any.whl (233 kB)\n",
      "     |████████████████████████████████| 233 kB 15.1 MB/s            \n",
      "\u001b[?25hCollecting typing-extensions\n",
      "  Downloading typing_extensions-4.0.1-py3-none-any.whl (22 kB)\n",
      "Using legacy 'setup.py install' for community, since package 'wheel' is not installed.\n",
      "Using legacy 'setup.py install' for wget, since package 'wheel' is not installed.\n",
      "Installing collected packages: Werkzeug, typing-extensions, patsy, itsdangerous, wget, tqdm, torch, statsmodels, networkx, Flask, pypickle, pgmpy, ismember, funcsigs, fsspec, df2onehot, community, bnlearn\n",
      "    Running setup.py install for wget ... \u001b[?25ldone\n",
      "\u001b[?25h    Running setup.py install for community ... \u001b[?25ldone\n",
      "\u001b[?25hSuccessfully installed Flask-2.0.2 Werkzeug-2.0.2 bnlearn-0.4.8 community-1.0.0b1 df2onehot-1.0.0 fsspec-2021.11.1 funcsigs-1.0.2 ismember-1.0.0 itsdangerous-2.0.1 networkx-2.6.3 patsy-0.5.2 pgmpy-0.1.16 pypickle-1.0.0 statsmodels-0.13.1 torch-1.10.0 tqdm-4.62.3 typing-extensions-4.0.1 wget-3.2\n"
     ]
    }
   ],
   "source": [
    "!pip install openpyxl pandas\n",
    "!pip install bnlearn"
   ]
  },
  {
   "cell_type": "markdown",
   "metadata": {},
   "source": [
    "# Bayesian Networks\n",
    "\n",
    "In this notebool, we will use bnlearn package to generate Bayesian Networks, based on structure learning and parameter learning. The generated Bayesian Networks will be used for inference. Using bnlearn package to learn a Bayesian network can be split into two problems:\n",
    "\n",
    "- Structure learning: Given a set of data samples, estimate a DAG that captures the dependencies between the variables.\n",
    "\n",
    "- Parameter learning: Given a set of data samples and a DAG that captures the dependencies between the variables, estimate the (conditional) probability distributions of the individual variables."
   ]
  },
  {
   "cell_type": "markdown",
   "metadata": {},
   "source": [
    "### Example: Building Bayesian Network and making inferences with Sprinkler data set"
   ]
  },
  {
   "cell_type": "code",
   "execution_count": 3,
   "metadata": {},
   "outputs": [
    {
     "name": "stdout",
     "output_type": "stream",
     "text": [
      "[bnlearn] >Downloading example [sprinkler] dataset..\n",
      "\r",
      "  0% [                                                                           ]    0 / 1049\r",
      "100% [...........................................................................] 1049 / 1049[bnlearn] >Import dataset..\n"
     ]
    },
    {
     "data": {
      "text/html": [
       "<div>\n",
       "<style scoped>\n",
       "    .dataframe tbody tr th:only-of-type {\n",
       "        vertical-align: middle;\n",
       "    }\n",
       "\n",
       "    .dataframe tbody tr th {\n",
       "        vertical-align: top;\n",
       "    }\n",
       "\n",
       "    .dataframe thead th {\n",
       "        text-align: right;\n",
       "    }\n",
       "</style>\n",
       "<table border=\"1\" class=\"dataframe\">\n",
       "  <thead>\n",
       "    <tr style=\"text-align: right;\">\n",
       "      <th></th>\n",
       "      <th>Cloudy</th>\n",
       "      <th>Sprinkler</th>\n",
       "      <th>Rain</th>\n",
       "      <th>Wet_Grass</th>\n",
       "    </tr>\n",
       "  </thead>\n",
       "  <tbody>\n",
       "    <tr>\n",
       "      <th>0</th>\n",
       "      <td>0</td>\n",
       "      <td>0</td>\n",
       "      <td>0</td>\n",
       "      <td>0</td>\n",
       "    </tr>\n",
       "    <tr>\n",
       "      <th>1</th>\n",
       "      <td>1</td>\n",
       "      <td>0</td>\n",
       "      <td>1</td>\n",
       "      <td>1</td>\n",
       "    </tr>\n",
       "    <tr>\n",
       "      <th>2</th>\n",
       "      <td>0</td>\n",
       "      <td>1</td>\n",
       "      <td>0</td>\n",
       "      <td>1</td>\n",
       "    </tr>\n",
       "    <tr>\n",
       "      <th>3</th>\n",
       "      <td>1</td>\n",
       "      <td>1</td>\n",
       "      <td>1</td>\n",
       "      <td>1</td>\n",
       "    </tr>\n",
       "    <tr>\n",
       "      <th>4</th>\n",
       "      <td>1</td>\n",
       "      <td>1</td>\n",
       "      <td>1</td>\n",
       "      <td>1</td>\n",
       "    </tr>\n",
       "    <tr>\n",
       "      <th>...</th>\n",
       "      <td>...</td>\n",
       "      <td>...</td>\n",
       "      <td>...</td>\n",
       "      <td>...</td>\n",
       "    </tr>\n",
       "    <tr>\n",
       "      <th>995</th>\n",
       "      <td>1</td>\n",
       "      <td>0</td>\n",
       "      <td>1</td>\n",
       "      <td>1</td>\n",
       "    </tr>\n",
       "    <tr>\n",
       "      <th>996</th>\n",
       "      <td>1</td>\n",
       "      <td>0</td>\n",
       "      <td>1</td>\n",
       "      <td>1</td>\n",
       "    </tr>\n",
       "    <tr>\n",
       "      <th>997</th>\n",
       "      <td>1</td>\n",
       "      <td>0</td>\n",
       "      <td>1</td>\n",
       "      <td>1</td>\n",
       "    </tr>\n",
       "    <tr>\n",
       "      <th>998</th>\n",
       "      <td>0</td>\n",
       "      <td>0</td>\n",
       "      <td>0</td>\n",
       "      <td>0</td>\n",
       "    </tr>\n",
       "    <tr>\n",
       "      <th>999</th>\n",
       "      <td>0</td>\n",
       "      <td>1</td>\n",
       "      <td>1</td>\n",
       "      <td>1</td>\n",
       "    </tr>\n",
       "  </tbody>\n",
       "</table>\n",
       "<p>1000 rows × 4 columns</p>\n",
       "</div>"
      ],
      "text/plain": [
       "     Cloudy  Sprinkler  Rain  Wet_Grass\n",
       "0         0          0     0          0\n",
       "1         1          0     1          1\n",
       "2         0          1     0          1\n",
       "3         1          1     1          1\n",
       "4         1          1     1          1\n",
       "..      ...        ...   ...        ...\n",
       "995       1          0     1          1\n",
       "996       1          0     1          1\n",
       "997       1          0     1          1\n",
       "998       0          0     0          0\n",
       "999       0          1     1          1\n",
       "\n",
       "[1000 rows x 4 columns]"
      ]
     },
     "execution_count": 3,
     "metadata": {},
     "output_type": "execute_result"
    }
   ],
   "source": [
    "import bnlearn as bn\n",
    "\n",
    "# load the Sprinkler dataset\n",
    "df = bn.import_example()\n",
    "\n",
    "df"
   ]
  },
  {
   "cell_type": "code",
   "execution_count": 4,
   "metadata": {
    "scrolled": false
   },
   "outputs": [
    {
     "name": "stdout",
     "output_type": "stream",
     "text": [
      "[bnlearn] >Computing best DAG using [hc]\n",
      "[bnlearn] >Set scoring type at [bic]\n",
      "[bnlearn]> Set node properties.\n",
      "[bnlearn] >Plot based on BayesianModel\n"
     ]
    },
    {
     "data": {
      "image/png": "[encoded data removed]",
      "text/plain": [
       "<Figure size 1080x576 with 1 Axes>"
      ]
     },
     "metadata": {},
     "output_type": "display_data"
    }
   ],
   "source": [
    "# Structure Learning: obtaining the network structure\n",
    "\n",
    "model = bn.structure_learning.fit(df)\n",
    "\n",
    "G = bn.plot(model)"
   ]
  },
  {
   "cell_type": "code",
   "execution_count": 5,
   "metadata": {},
   "outputs": [
    {
     "name": "stdout",
     "output_type": "stream",
     "text": [
      "[bnlearn] >Parameter learning> Computing parameters using [bayes]\n",
      "[bnlearn] >Conversion of adjmat to BayesianModel.\n",
      "[bnlearn] >CPD of Cloudy:\n",
      "+-----------+--------------------+--------------------+\n",
      "| Sprinkler | Sprinkler(0)       | Sprinkler(1)       |\n",
      "+-----------+--------------------+--------------------+\n",
      "| Cloudy(0) | 0.3988245172124265 | 0.6341161928306551 |\n",
      "+-----------+--------------------+--------------------+\n",
      "| Cloudy(1) | 0.6011754827875735 | 0.3658838071693449 |\n",
      "+-----------+--------------------+--------------------+\n",
      "[bnlearn] >CPD of Rain:\n",
      "+---------+--------------------+---------------------+\n",
      "| Cloudy  | Cloudy(0)          | Cloudy(1)           |\n",
      "+---------+--------------------+---------------------+\n",
      "| Rain(0) | 0.6518218623481782 | 0.33695652173913043 |\n",
      "+---------+--------------------+---------------------+\n",
      "| Rain(1) | 0.3481781376518219 | 0.6630434782608695  |\n",
      "+---------+--------------------+---------------------+\n",
      "[bnlearn] >CPD of Sprinkler:\n",
      "+--------------+--------+\n",
      "| Sprinkler(0) | 0.5955 |\n",
      "+--------------+--------+\n",
      "| Sprinkler(1) | 0.4045 |\n",
      "+--------------+--------+\n",
      "[bnlearn] >CPD of Wet_Grass:\n",
      "+--------------+--------------------+-----+---------------------+\n",
      "| Rain         | Rain(0)            | ... | Rain(1)             |\n",
      "+--------------+--------------------+-----+---------------------+\n",
      "| Sprinkler    | Sprinkler(0)       | ... | Sprinkler(1)        |\n",
      "+--------------+--------------------+-----+---------------------+\n",
      "| Wet_Grass(0) | 0.7553816046966731 | ... | 0.37910447761194027 |\n",
      "+--------------+--------------------+-----+---------------------+\n",
      "| Wet_Grass(1) | 0.2446183953033268 | ... | 0.6208955223880597  |\n",
      "+--------------+--------------------+-----+---------------------+\n",
      "[bnlearn]> Set node properties.\n",
      "[bnlearn] >Plot based on BayesianModel\n"
     ]
    },
    {
     "data": {
      "image/png": "[encoded data removed]",
      "text/plain": [
       "<Figure size 1080x576 with 1 Axes>"
      ]
     },
     "metadata": {},
     "output_type": "display_data"
    }
   ],
   "source": [
    "# learn the parameters of the DAG using the df\n",
    "model_update = bn.parameter_learning.fit(model, df, methodtype=\"bayes\")\n",
    "\n",
    "# Make plot\n",
    "G = bn.plot(model_update)"
   ]
  },
  {
   "cell_type": "code",
   "execution_count": 6,
   "metadata": {},
   "outputs": [
    {
     "name": "stdout",
     "output_type": "stream",
     "text": [
      "[bnlearn] >Variable Elimination..\n"
     ]
    },
    {
     "data": {
      "application/vnd.jupyter.widget-view+json": {
       "model_id": "2bc688d3acfe4e41b244d733e9324187",
       "version_major": 2,
       "version_minor": 0
      },
      "text/plain": [
       "0it [00:00, ?it/s]"
      ]
     },
     "metadata": {},
     "output_type": "display_data"
    },
    {
     "data": {
      "application/vnd.jupyter.widget-view+json": {
       "model_id": "9988c5422e094524b235c85dccf9d4a9",
       "version_major": 2,
       "version_minor": 0
      },
      "text/plain": [
       "0it [00:00, ?it/s]"
      ]
     },
     "metadata": {},
     "output_type": "display_data"
    },
    {
     "name": "stdout",
     "output_type": "stream",
     "text": [
      "+----+-------------+----------+\n",
      "|    |   Wet_Grass |        p |\n",
      "+====+=============+==========+\n",
      "|  0 |           0 | 0.255882 |\n",
      "+----+-------------+----------+\n",
      "|  1 |           1 | 0.744118 |\n",
      "+----+-------------+----------+\n",
      "[bnlearn] >Variable Elimination..\n"
     ]
    },
    {
     "data": {
      "application/vnd.jupyter.widget-view+json": {
       "model_id": "b10a56631650446ea15112a398182b5c",
       "version_major": 2,
       "version_minor": 0
      },
      "text/plain": [
       "  0%|          | 0/2 [00:00<?, ?it/s]"
      ]
     },
     "metadata": {},
     "output_type": "display_data"
    },
    {
     "data": {
      "application/vnd.jupyter.widget-view+json": {
       "model_id": "3001e825eb154e93acfd6bec9b6250cb",
       "version_major": 2,
       "version_minor": 0
      },
      "text/plain": [
       "  0%|          | 0/2 [00:00<?, ?it/s]"
      ]
     },
     "metadata": {},
     "output_type": "display_data"
    },
    {
     "name": "stdout",
     "output_type": "stream",
     "text": [
      "+----+-------------+----------+\n",
      "|    |   Wet_Grass |        p |\n",
      "+====+=============+==========+\n",
      "|  0 |           0 | 0.301393 |\n",
      "+----+-------------+----------+\n",
      "|  1 |           1 | 0.698607 |\n",
      "+----+-------------+----------+\n"
     ]
    }
   ],
   "source": [
    "# performing inference\n",
    "q_1 = bn.inference.fit(model_update, variables=['Wet_Grass'], evidence={'Cloudy':1,'Sprinkler':0, 'Rain':1})\n",
    "q_2 = bn.inference.fit(model_update, variables=['Wet_Grass'], evidence={'Rain':1})"
   ]
  },
  {
   "cell_type": "markdown",
   "metadata": {},
   "source": [
    "<div class='alert alert-block alert-success' style=\"font-weight:bolder\">\n",
    "\n",
    "### Task 1\n",
    "\n",
    "Learn a Bayesian Network of the artificial smart grid data set. Construct the network make inference for the following:\n",
    "\n",
    "- P(Outage_Duration=Less_than_1H | Time=Morning, Demand_Factor=Medium)\n",
    "- P(Demand_Factor=High | Overload=Yes, Weather=Cold)\n",
    "- P(Number_of_Customers=Low | Demand_Factor=High)\n"
   ]
  },
  {
   "cell_type": "code",
   "execution_count": 11,
   "metadata": {
    "scrolled": false
   },
   "outputs": [
    {
     "name": "stdout",
     "output_type": "stream",
     "text": [
      "Index(['Season', 'Outage_Duration', 'Number_of_Customers', 'Overload',\n",
      "       'Weather', 'Time', 'Demand_Factor', 'Day'],\n",
      "      dtype='object')\n"
     ]
    },
    {
     "data": {
      "text/html": [
       "<div>\n",
       "<style scoped>\n",
       "    .dataframe tbody tr th:only-of-type {\n",
       "        vertical-align: middle;\n",
       "    }\n",
       "\n",
       "    .dataframe tbody tr th {\n",
       "        vertical-align: top;\n",
       "    }\n",
       "\n",
       "    .dataframe thead th {\n",
       "        text-align: right;\n",
       "    }\n",
       "</style>\n",
       "<table border=\"1\" class=\"dataframe\">\n",
       "  <thead>\n",
       "    <tr style=\"text-align: right;\">\n",
       "      <th></th>\n",
       "      <th>Season</th>\n",
       "      <th>Outage_Duration</th>\n",
       "      <th>Number_of_Customers</th>\n",
       "      <th>Overload</th>\n",
       "      <th>Weather</th>\n",
       "      <th>Time</th>\n",
       "      <th>Demand_Factor</th>\n",
       "      <th>Day</th>\n",
       "    </tr>\n",
       "  </thead>\n",
       "  <tbody>\n",
       "    <tr>\n",
       "      <th>0</th>\n",
       "      <td>Autumn</td>\n",
       "      <td>Less_than_1H</td>\n",
       "      <td>Low</td>\n",
       "      <td>Yes</td>\n",
       "      <td>Cold</td>\n",
       "      <td>Morning</td>\n",
       "      <td>Low</td>\n",
       "      <td>Weekdays</td>\n",
       "    </tr>\n",
       "    <tr>\n",
       "      <th>1</th>\n",
       "      <td>Winter</td>\n",
       "      <td>Less_than_1H</td>\n",
       "      <td>Low</td>\n",
       "      <td>No</td>\n",
       "      <td>Cold</td>\n",
       "      <td>Evening</td>\n",
       "      <td>Low</td>\n",
       "      <td>Weekdays</td>\n",
       "    </tr>\n",
       "    <tr>\n",
       "      <th>2</th>\n",
       "      <td>Spring</td>\n",
       "      <td>More_than_1H</td>\n",
       "      <td>Low</td>\n",
       "      <td>No</td>\n",
       "      <td>Cold</td>\n",
       "      <td>Evening</td>\n",
       "      <td>Low</td>\n",
       "      <td>Weekdays</td>\n",
       "    </tr>\n",
       "    <tr>\n",
       "      <th>3</th>\n",
       "      <td>Winter</td>\n",
       "      <td>Less_than_1H</td>\n",
       "      <td>High</td>\n",
       "      <td>No</td>\n",
       "      <td>Warm</td>\n",
       "      <td>Morning</td>\n",
       "      <td>Low</td>\n",
       "      <td>Weekdays</td>\n",
       "    </tr>\n",
       "    <tr>\n",
       "      <th>4</th>\n",
       "      <td>Spring</td>\n",
       "      <td>More_than_1H</td>\n",
       "      <td>Low</td>\n",
       "      <td>No</td>\n",
       "      <td>Cold</td>\n",
       "      <td>Morning</td>\n",
       "      <td>Low</td>\n",
       "      <td>Weekend</td>\n",
       "    </tr>\n",
       "    <tr>\n",
       "      <th>...</th>\n",
       "      <td>...</td>\n",
       "      <td>...</td>\n",
       "      <td>...</td>\n",
       "      <td>...</td>\n",
       "      <td>...</td>\n",
       "      <td>...</td>\n",
       "      <td>...</td>\n",
       "      <td>...</td>\n",
       "    </tr>\n",
       "    <tr>\n",
       "      <th>695</th>\n",
       "      <td>Autumn</td>\n",
       "      <td>Less_than_1H</td>\n",
       "      <td>Low</td>\n",
       "      <td>Yes</td>\n",
       "      <td>Cold</td>\n",
       "      <td>Afternoon</td>\n",
       "      <td>High</td>\n",
       "      <td>Weekend</td>\n",
       "    </tr>\n",
       "    <tr>\n",
       "      <th>696</th>\n",
       "      <td>Summer</td>\n",
       "      <td>More_than_1H</td>\n",
       "      <td>Low</td>\n",
       "      <td>No</td>\n",
       "      <td>Warm</td>\n",
       "      <td>Evening</td>\n",
       "      <td>Medium</td>\n",
       "      <td>Weekend</td>\n",
       "    </tr>\n",
       "    <tr>\n",
       "      <th>697</th>\n",
       "      <td>Winter</td>\n",
       "      <td>Less_than_1H</td>\n",
       "      <td>High</td>\n",
       "      <td>Yes</td>\n",
       "      <td>Cold</td>\n",
       "      <td>Evening</td>\n",
       "      <td>Medium</td>\n",
       "      <td>Weekdays</td>\n",
       "    </tr>\n",
       "    <tr>\n",
       "      <th>698</th>\n",
       "      <td>Autumn</td>\n",
       "      <td>More_than_1H</td>\n",
       "      <td>Low</td>\n",
       "      <td>No</td>\n",
       "      <td>Cold</td>\n",
       "      <td>Afternoon</td>\n",
       "      <td>High</td>\n",
       "      <td>Weekend</td>\n",
       "    </tr>\n",
       "    <tr>\n",
       "      <th>699</th>\n",
       "      <td>Spring</td>\n",
       "      <td>Less_than_1H</td>\n",
       "      <td>High</td>\n",
       "      <td>No</td>\n",
       "      <td>Warm</td>\n",
       "      <td>Morning</td>\n",
       "      <td>Low</td>\n",
       "      <td>Weekdays</td>\n",
       "    </tr>\n",
       "  </tbody>\n",
       "</table>\n",
       "<p>700 rows × 8 columns</p>\n",
       "</div>"
      ],
      "text/plain": [
       "     Season Outage_Duration Number_of_Customers Overload Weather       Time  \\\n",
       "0    Autumn    Less_than_1H                 Low      Yes    Cold    Morning   \n",
       "1    Winter    Less_than_1H                 Low       No    Cold    Evening   \n",
       "2    Spring    More_than_1H                 Low       No    Cold    Evening   \n",
       "3    Winter    Less_than_1H                High       No    Warm    Morning   \n",
       "4    Spring    More_than_1H                 Low       No    Cold    Morning   \n",
       "..      ...             ...                 ...      ...     ...        ...   \n",
       "695  Autumn    Less_than_1H                 Low      Yes    Cold  Afternoon   \n",
       "696  Summer    More_than_1H                 Low       No    Warm    Evening   \n",
       "697  Winter    Less_than_1H                High      Yes    Cold    Evening   \n",
       "698  Autumn    More_than_1H                 Low       No    Cold  Afternoon   \n",
       "699  Spring    Less_than_1H                High       No    Warm    Morning   \n",
       "\n",
       "    Demand_Factor       Day  \n",
       "0             Low  Weekdays  \n",
       "1             Low  Weekdays  \n",
       "2             Low  Weekdays  \n",
       "3             Low  Weekdays  \n",
       "4             Low   Weekend  \n",
       "..            ...       ...  \n",
       "695          High   Weekend  \n",
       "696        Medium   Weekend  \n",
       "697        Medium  Weekdays  \n",
       "698          High   Weekend  \n",
       "699           Low  Weekdays  \n",
       "\n",
       "[700 rows x 8 columns]"
      ]
     },
     "execution_count": 11,
     "metadata": {},
     "output_type": "execute_result"
    }
   ],
   "source": [
    "import pandas as pd\n",
    "\n",
    "file = 'smart_grid.xlsx'\n",
    "\n",
    "df_sg = data = pd.read_excel(file)\n",
    "\n",
    "print(df_sg.columns)\n",
    "df_sg"
   ]
  },
  {
   "cell_type": "code",
   "execution_count": 12,
   "metadata": {},
   "outputs": [
    {
     "name": "stdout",
     "output_type": "stream",
     "text": [
      "[bnlearn] >Computing best DAG using [hc]\n",
      "[bnlearn] >Set scoring type at [bic]\n",
      "[bnlearn] >Parameter learning> Computing parameters using [bayes]\n",
      "[bnlearn] >Conversion of adjmat to BayesianModel.\n",
      "[bnlearn] >CPD of Outage_Duration:\n",
      "+-------------------------------+--------------------+---------------------+\n",
      "| Overload                      | Overload(No)       | Overload(Yes)       |\n",
      "+-------------------------------+--------------------+---------------------+\n",
      "| Outage_Duration(Less_than_1H) | 0.3964248159831756 | 0.5874499332443258  |\n",
      "+-------------------------------+--------------------+---------------------+\n",
      "| Outage_Duration(More_than_1H) | 0.6035751840168244 | 0.41255006675567424 |\n",
      "+-------------------------------+--------------------+---------------------+\n",
      "[bnlearn] >CPD of Weather:\n",
      "+-----------------+-----+-------------------------------+\n",
      "| Outage_Duration | ... | Outage_Duration(More_than_1H) |\n",
      "+-----------------+-----+-------------------------------+\n",
      "| Weather( Cold)  | ... | 0.579841449603624             |\n",
      "+-----------------+-----+-------------------------------+\n",
      "| Weather( Warm)  | ... | 0.420158550396376             |\n",
      "+-----------------+-----+-------------------------------+\n",
      "[bnlearn] >CPD of Number_of_Customers:\n",
      "+---------------------------+----------+\n",
      "| Number_of_Customers(High) | 0.461176 |\n",
      "+---------------------------+----------+\n",
      "| Number_of_Customers(Low)  | 0.538824 |\n",
      "+---------------------------+----------+\n",
      "[bnlearn] >CPD of Overload:\n",
      "+---------------------+-----+--------------------------+\n",
      "| Demand_Factor       | ... | Demand_Factor(Medium)    |\n",
      "+---------------------+-----+--------------------------+\n",
      "| Number_of_Customers | ... | Number_of_Customers(Low) |\n",
      "+---------------------+-----+--------------------------+\n",
      "| Overload(No)        | ... | 0.6346396965865992       |\n",
      "+---------------------+-----+--------------------------+\n",
      "| Overload(Yes)       | ... | 0.3653603034134008       |\n",
      "+---------------------+-----+--------------------------+\n",
      "[bnlearn] >CPD of Season:\n",
      "+----------------+---------------------+---------------------+\n",
      "| Weather        | Weather( Cold)      | Weather( Warm)      |\n",
      "+----------------+---------------------+---------------------+\n",
      "| Season(Autumn) | 0.26673866090712745 | 0.23772609819121446 |\n",
      "+----------------+---------------------+---------------------+\n",
      "| Season(Spring) | 0.24622030237580994 | 0.2467700258397933  |\n",
      "+----------------+---------------------+---------------------+\n",
      "| Season(Summer) | 0.17818574514038876 | 0.3372093023255814  |\n",
      "+----------------+---------------------+---------------------+\n",
      "| Season(Winter) | 0.30885529157667385 | 0.17829457364341086 |\n",
      "+----------------+---------------------+---------------------+\n",
      "[bnlearn] >CPD of Time:\n",
      "+-----------------+----------+\n",
      "| Time(Afternoon) | 0.267647 |\n",
      "+-----------------+----------+\n",
      "| Time(Evening)   | 0.267647 |\n",
      "+-----------------+----------+\n",
      "| Time(Morning)   | 0.277647 |\n",
      "+-----------------+----------+\n",
      "| Time(Night)     | 0.187059 |\n",
      "+-----------------+----------+\n",
      "[bnlearn] >CPD of Demand_Factor:\n",
      "+-----------------------+-----+---------------------+\n",
      "| Day                   | ... | Day(Weekend)        |\n",
      "+-----------------------+-----+---------------------+\n",
      "| Time                  | ... | Time(Night)         |\n",
      "+-----------------------+-----+---------------------+\n",
      "| Demand_Factor(High)   | ... | 0.2882882882882883  |\n",
      "+-----------------------+-----+---------------------+\n",
      "| Demand_Factor(Low)    | ... | 0.35585585585585583 |\n",
      "+-----------------------+-----+---------------------+\n",
      "| Demand_Factor(Medium) | ... | 0.35585585585585583 |\n",
      "+-----------------------+-----+---------------------+\n",
      "[bnlearn] >CPD of Day:\n",
      "+---------------+----------+\n",
      "| Day(Weekdays) | 0.543529 |\n",
      "+---------------+----------+\n",
      "| Day(Weekend)  | 0.456471 |\n",
      "+---------------+----------+\n"
     ]
    }
   ],
   "source": [
    "model = bn.structure_learning.fit(data)\n",
    "model_update = bn.parameter_learning.fit(model, data, methodtype=\"bayes\")\n"
   ]
  },
  {
   "cell_type": "code",
   "execution_count": 17,
   "metadata": {},
   "outputs": [
    {
     "name": "stdout",
     "output_type": "stream",
     "text": [
      "[bnlearn] >Variable Elimination..\n"
     ]
    },
    {
     "data": {
      "application/vnd.jupyter.widget-view+json": {
       "model_id": "0ac78083dc434334b4b83808c0837c12",
       "version_major": 2,
       "version_minor": 0
      },
      "text/plain": [
       "  0%|          | 0/2 [00:00<?, ?it/s]"
      ]
     },
     "metadata": {},
     "output_type": "display_data"
    },
    {
     "data": {
      "application/vnd.jupyter.widget-view+json": {
       "model_id": "dd9a2044f1684e379ecc1439677b3d4e",
       "version_major": 2,
       "version_minor": 0
      },
      "text/plain": [
       "  0%|          | 0/2 [00:00<?, ?it/s]"
      ]
     },
     "metadata": {},
     "output_type": "display_data"
    },
    {
     "name": "stdout",
     "output_type": "stream",
     "text": [
      "+----+-------------------+----------+\n",
      "|    |   Outage_Duration |        p |\n",
      "+====+===================+==========+\n",
      "|  0 |                 0 | 0.482832 |\n",
      "+----+-------------------+----------+\n",
      "|  1 |                 1 | 0.517168 |\n",
      "+----+-------------------+----------+\n",
      "+-------------------------------+------------------------+\n",
      "| Outage_Duration               |   phi(Outage_Duration) |\n",
      "+===============================+========================+\n",
      "| Outage_Duration(Less_than_1H) |                 0.4828 |\n",
      "+-------------------------------+------------------------+\n",
      "| Outage_Duration(More_than_1H) |                 0.5172 |\n",
      "+-------------------------------+------------------------+\n"
     ]
    }
   ],
   "source": [
    "q_1 = bn.inference.fit(model_update, variables=['Outage_Duration'], evidence={'Time':'Morning','Demand_Factor':'Medium'})\n",
    "print(q_1)"
   ]
  },
  {
   "cell_type": "code",
   "execution_count": 16,
   "metadata": {},
   "outputs": [
    {
     "name": "stdout",
     "output_type": "stream",
     "text": [
      "[bnlearn] >Variable Elimination..\n"
     ]
    },
    {
     "data": {
      "application/vnd.jupyter.widget-view+json": {
       "model_id": "5a72eb4448d64edbbadc6ade3f4cb1d7",
       "version_major": 2,
       "version_minor": 0
      },
      "text/plain": [
       "  0%|          | 0/3 [00:00<?, ?it/s]"
      ]
     },
     "metadata": {},
     "output_type": "display_data"
    },
    {
     "data": {
      "application/vnd.jupyter.widget-view+json": {
       "model_id": "287c7d8a92ed479c8366856c26beb31d",
       "version_major": 2,
       "version_minor": 0
      },
      "text/plain": [
       "  0%|          | 0/3 [00:00<?, ?it/s]"
      ]
     },
     "metadata": {},
     "output_type": "display_data"
    },
    {
     "name": "stdout",
     "output_type": "stream",
     "text": [
      "+----+-----------------+----------+\n",
      "|    |   Demand_Factor |        p |\n",
      "+====+=================+==========+\n",
      "|  0 |               0 | 0.367494 |\n",
      "+----+-----------------+----------+\n",
      "|  1 |               1 | 0.33314  |\n",
      "+----+-----------------+----------+\n",
      "|  2 |               2 | 0.299365 |\n",
      "+----+-----------------+----------+\n",
      "+-----------------------+----------------------+\n",
      "| Demand_Factor         |   phi(Demand_Factor) |\n",
      "+=======================+======================+\n",
      "| Demand_Factor(High)   |               0.3675 |\n",
      "+-----------------------+----------------------+\n",
      "| Demand_Factor(Low)    |               0.3331 |\n",
      "+-----------------------+----------------------+\n",
      "| Demand_Factor(Medium) |               0.2994 |\n",
      "+-----------------------+----------------------+\n"
     ]
    }
   ],
   "source": [
    "q_2 = bn.inference.fit(model_update, variables=['Demand_Factor'], evidence={'Overload':'Yes','Weather':' Cold'})\n",
    "print(q_2)"
   ]
  },
  {
   "cell_type": "code",
   "execution_count": 18,
   "metadata": {},
   "outputs": [
    {
     "name": "stdout",
     "output_type": "stream",
     "text": [
      "[bnlearn] >Variable Elimination..\n"
     ]
    },
    {
     "data": {
      "application/vnd.jupyter.widget-view+json": {
       "model_id": "f94a4b1acc554e75b2c81f1923674fec",
       "version_major": 2,
       "version_minor": 0
      },
      "text/plain": [
       "0it [00:00, ?it/s]"
      ]
     },
     "metadata": {},
     "output_type": "display_data"
    },
    {
     "data": {
      "application/vnd.jupyter.widget-view+json": {
       "model_id": "a8874bae445c447d840e903a6bba2128",
       "version_major": 2,
       "version_minor": 0
      },
      "text/plain": [
       "0it [00:00, ?it/s]"
      ]
     },
     "metadata": {},
     "output_type": "display_data"
    },
    {
     "name": "stdout",
     "output_type": "stream",
     "text": [
      "+----+-----------------------+----------+\n",
      "|    |   Number_of_Customers |        p |\n",
      "+====+=======================+==========+\n",
      "|  0 |                     0 | 0.461176 |\n",
      "+----+-----------------------+----------+\n",
      "|  1 |                     1 | 0.538824 |\n",
      "+----+-----------------------+----------+\n",
      "+---------------------------+----------------------------+\n",
      "| Number_of_Customers       |   phi(Number_of_Customers) |\n",
      "+===========================+============================+\n",
      "| Number_of_Customers(High) |                     0.4612 |\n",
      "+---------------------------+----------------------------+\n",
      "| Number_of_Customers(Low)  |                     0.5388 |\n",
      "+---------------------------+----------------------------+\n"
     ]
    }
   ],
   "source": [
    "q_3 = bn.inference.fit(model_update, variables=['Number_of_Customers'], evidence={'Demand_Factor':'High'})\n",
    "print(q_3)"
   ]
  },
  {
   "cell_type": "code",
   "execution_count": null,
   "metadata": {},
   "outputs": [],
   "source": []
  }
 ],
 "metadata": {
  "kernelspec": {
   "display_name": "Python 3 (ipykernel)",
   "language": "python",
   "name": "python3"
  },
  "language_info": {
   "codemirror_mode": {
    "name": "ipython",
    "version": 3
   },
   "file_extension": ".py",
   "mimetype": "text/x-python",
   "name": "python",
   "nbconvert_exporter": "python",
   "pygments_lexer": "ipython3",
   "version": "3.9.9"
  }
 },
 "nbformat": 4,
 "nbformat_minor": 4
}
