{
 "cells": [
  {
   "cell_type": "code",
   "execution_count": 12,
   "metadata": {},
   "outputs": [
    {
     "name": "stdout",
     "output_type": "stream",
     "text": [
      "Defaulting to user installation because normal site-packages is not writeable\n",
      "Requirement already satisfied: xlrd in /home/rohullah/.local/lib/python3.9/site-packages (2.0.1)\n",
      "Requirement already satisfied: pandas in /home/rohullah/.local/lib/python3.9/site-packages (1.3.4)\n",
      "Requirement already satisfied: pytz>=2017.3 in /home/rohullah/.local/lib/python3.9/site-packages (from pandas) (2021.3)\n",
      "Requirement already satisfied: python-dateutil>=2.7.3 in /home/rohullah/.local/lib/python3.9/site-packages (from pandas) (2.8.2)\n",
      "Requirement already satisfied: numpy>=1.17.3 in /usr/lib/python3.9/site-packages (from pandas) (1.21.3)\n",
      "Requirement already satisfied: six>=1.5 in /usr/lib/python3.9/site-packages (from python-dateutil>=2.7.3->pandas) (1.16.0)\n",
      "Defaulting to user installation because normal site-packages is not writeable\n",
      "Requirement already satisfied: bnlearn in /home/rohullah/.local/lib/python3.9/site-packages (0.4.8)\n",
      "Requirement already satisfied: packaging in /usr/lib/python3.9/site-packages (from bnlearn) (20.9)\n",
      "Requirement already satisfied: pandas in /home/rohullah/.local/lib/python3.9/site-packages (from bnlearn) (1.3.4)\n",
      "Requirement already satisfied: df2onehot in /home/rohullah/.local/lib/python3.9/site-packages (from bnlearn) (1.0.0)\n",
      "Requirement already satisfied: sklearn in /home/rohullah/.local/lib/python3.9/site-packages (from bnlearn) (0.0)\n",
      "Requirement already satisfied: fsspec in /home/rohullah/.local/lib/python3.9/site-packages (from bnlearn) (2021.11.1)\n",
      "Requirement already satisfied: funcsigs in /home/rohullah/.local/lib/python3.9/site-packages (from bnlearn) (1.0.2)\n",
      "Requirement already satisfied: pypickle in /home/rohullah/.local/lib/python3.9/site-packages (from bnlearn) (1.0.0)\n",
      "Requirement already satisfied: wget in /home/rohullah/.local/lib/python3.9/site-packages (from bnlearn) (3.2)\n",
      "Requirement already satisfied: tabulate in /home/rohullah/.local/lib/python3.9/site-packages (from bnlearn) (0.8.9)\n",
      "Requirement already satisfied: numpy in /usr/lib/python3.9/site-packages (from bnlearn) (1.21.3)\n",
      "Requirement already satisfied: statsmodels in /home/rohullah/.local/lib/python3.9/site-packages (from bnlearn) (0.13.1)\n",
      "Requirement already satisfied: networkx>2.5 in /home/rohullah/.local/lib/python3.9/site-packages (from bnlearn) (2.6.3)\n",
      "Requirement already satisfied: ismember in /home/rohullah/.local/lib/python3.9/site-packages (from bnlearn) (1.0.0)\n",
      "Requirement already satisfied: community in /home/rohullah/.local/lib/python3.9/site-packages (from bnlearn) (1.0.0b1)\n",
      "Requirement already satisfied: tqdm in /home/rohullah/.local/lib/python3.9/site-packages (from bnlearn) (4.62.3)\n",
      "Requirement already satisfied: matplotlib>=3.3.4 in /home/rohullah/.local/lib/python3.9/site-packages (from bnlearn) (3.5.0)\n",
      "Requirement already satisfied: pgmpy>=0.1.13 in /home/rohullah/.local/lib/python3.9/site-packages (from bnlearn) (0.1.16)\n",
      "Requirement already satisfied: pillow>=6.2.0 in /usr/lib/python3.9/site-packages (from matplotlib>=3.3.4->bnlearn) (8.4.0)\n",
      "Requirement already satisfied: kiwisolver>=1.0.1 in /home/rohullah/.local/lib/python3.9/site-packages (from matplotlib>=3.3.4->bnlearn) (1.3.2)\n",
      "Requirement already satisfied: setuptools-scm>=4 in /home/rohullah/.local/lib/python3.9/site-packages (from matplotlib>=3.3.4->bnlearn) (6.3.2)\n",
      "Requirement already satisfied: fonttools>=4.22.0 in /home/rohullah/.local/lib/python3.9/site-packages (from matplotlib>=3.3.4->bnlearn) (4.28.3)\n",
      "Requirement already satisfied: python-dateutil>=2.7 in /home/rohullah/.local/lib/python3.9/site-packages (from matplotlib>=3.3.4->bnlearn) (2.8.2)\n",
      "Requirement already satisfied: pyparsing>=2.2.1 in /usr/lib/python3.9/site-packages (from matplotlib>=3.3.4->bnlearn) (2.4.7)\n",
      "Requirement already satisfied: cycler>=0.10 in /home/rohullah/.local/lib/python3.9/site-packages (from matplotlib>=3.3.4->bnlearn) (0.11.0)\n",
      "Requirement already satisfied: scikit-learn in /home/rohullah/.local/lib/python3.9/site-packages (from pgmpy>=0.1.13->bnlearn) (1.0.1)\n",
      "Requirement already satisfied: joblib in /home/rohullah/.local/lib/python3.9/site-packages (from pgmpy>=0.1.13->bnlearn) (1.1.0)\n",
      "Requirement already satisfied: torch in /home/rohullah/.local/lib/python3.9/site-packages (from pgmpy>=0.1.13->bnlearn) (1.10.0)\n",
      "Requirement already satisfied: scipy in /home/rohullah/.local/lib/python3.9/site-packages (from pgmpy>=0.1.13->bnlearn) (1.7.3)\n",
      "Requirement already satisfied: six>=1.5 in /usr/lib/python3.9/site-packages (from python-dateutil>=2.7->matplotlib>=3.3.4->bnlearn) (1.16.0)\n",
      "Requirement already satisfied: setuptools in /usr/lib/python3.9/site-packages (from setuptools-scm>=4->matplotlib>=3.3.4->bnlearn) (57.4.0)\n",
      "Requirement already satisfied: tomli>=1.0.0 in /usr/lib/python3.9/site-packages (from setuptools-scm>=4->matplotlib>=3.3.4->bnlearn) (1.2.2)\n",
      "Requirement already satisfied: Flask in /home/rohullah/.local/lib/python3.9/site-packages (from community->bnlearn) (2.0.2)\n",
      "Requirement already satisfied: requests in /usr/lib/python3.9/site-packages (from community->bnlearn) (2.26.0)\n",
      "Requirement already satisfied: itsdangerous>=2.0 in /home/rohullah/.local/lib/python3.9/site-packages (from Flask->community->bnlearn) (2.0.1)\n",
      "Requirement already satisfied: Jinja2>=3.0 in /usr/lib/python3.9/site-packages (from Flask->community->bnlearn) (3.0.3)\n",
      "Requirement already satisfied: click>=7.1.2 in /home/rohullah/.local/lib/python3.9/site-packages (from Flask->community->bnlearn) (8.0.3)\n",
      "Requirement already satisfied: Werkzeug>=2.0 in /home/rohullah/.local/lib/python3.9/site-packages (from Flask->community->bnlearn) (2.0.2)\n",
      "Requirement already satisfied: MarkupSafe>=2.0 in /usr/lib/python3.9/site-packages (from Jinja2>=3.0->Flask->community->bnlearn) (2.0.1)\n",
      "Requirement already satisfied: pytz>=2017.3 in /home/rohullah/.local/lib/python3.9/site-packages (from pandas->bnlearn) (2021.3)\n",
      "Requirement already satisfied: chardet>=3.0.2 in /usr/lib/python3.9/site-packages (from requests->community->bnlearn) (4.0.0)\n",
      "Requirement already satisfied: idna>=2.5 in /usr/lib/python3.9/site-packages (from requests->community->bnlearn) (3.3)\n",
      "Requirement already satisfied: urllib3>=1.21.1 in /usr/lib/python3.9/site-packages (from requests->community->bnlearn) (1.26.7)\n",
      "Requirement already satisfied: threadpoolctl>=2.0.0 in /home/rohullah/.local/lib/python3.9/site-packages (from scikit-learn->pgmpy>=0.1.13->bnlearn) (3.0.0)\n",
      "Requirement already satisfied: patsy>=0.5.2 in /home/rohullah/.local/lib/python3.9/site-packages (from statsmodels->bnlearn) (0.5.2)\n",
      "Requirement already satisfied: typing-extensions in /home/rohullah/.local/lib/python3.9/site-packages (from torch->pgmpy>=0.1.13->bnlearn) (4.0.1)\n"
     ]
    }
   ],
   "source": [
    "!pip install xlrd pandas\n",
    "!pip install bnlearn"
   ]
  },
  {
   "cell_type": "markdown",
   "metadata": {},
   "source": [
    "# Bayesian Networks\n",
    "\n",
    "In this notebool, we will use bnlearn package to generate Bayesian Networks, based on structure learning and parameter learning. The generated Bayesian Networks will be used for inference. Using bnlearn package to learn a Bayesian network can be split into two problems:\n",
    "\n",
    "- Structure learning: Given a set of data samples, estimate a DAG that captures the dependencies between the variables.\n",
    "\n",
    "- Parameter learning: Given a set of data samples and a DAG that captures the dependencies between the variables, estimate the (conditional) probability distributions of the individual variables."
   ]
  },
  {
   "cell_type": "markdown",
   "metadata": {},
   "source": [
    "### Example: Building Bayesian Network and making inferences with Sprinkler data set"
   ]
  },
  {
   "cell_type": "code",
   "execution_count": 22,
   "metadata": {},
   "outputs": [
    {
     "name": "stdout",
     "output_type": "stream",
     "text": [
      "[bnlearn] >Import dataset..\n"
     ]
    },
    {
     "data": {
      "text/html": [
       "<div>\n",
       "<style scoped>\n",
       "    .dataframe tbody tr th:only-of-type {\n",
       "        vertical-align: middle;\n",
       "    }\n",
       "\n",
       "    .dataframe tbody tr th {\n",
       "        vertical-align: top;\n",
       "    }\n",
       "\n",
       "    .dataframe thead th {\n",
       "        text-align: right;\n",
       "    }\n",
       "</style>\n",
       "<table border=\"1\" class=\"dataframe\">\n",
       "  <thead>\n",
       "    <tr style=\"text-align: right;\">\n",
       "      <th></th>\n",
       "      <th>Cloudy</th>\n",
       "      <th>Sprinkler</th>\n",
       "      <th>Rain</th>\n",
       "      <th>Wet_Grass</th>\n",
       "    </tr>\n",
       "  </thead>\n",
       "  <tbody>\n",
       "    <tr>\n",
       "      <th>0</th>\n",
       "      <td>0</td>\n",
       "      <td>0</td>\n",
       "      <td>0</td>\n",
       "      <td>0</td>\n",
       "    </tr>\n",
       "    <tr>\n",
       "      <th>1</th>\n",
       "      <td>1</td>\n",
       "      <td>0</td>\n",
       "      <td>1</td>\n",
       "      <td>1</td>\n",
       "    </tr>\n",
       "    <tr>\n",
       "      <th>2</th>\n",
       "      <td>0</td>\n",
       "      <td>1</td>\n",
       "      <td>0</td>\n",
       "      <td>1</td>\n",
       "    </tr>\n",
       "    <tr>\n",
       "      <th>3</th>\n",
       "      <td>1</td>\n",
       "      <td>1</td>\n",
       "      <td>1</td>\n",
       "      <td>1</td>\n",
       "    </tr>\n",
       "    <tr>\n",
       "      <th>4</th>\n",
       "      <td>1</td>\n",
       "      <td>1</td>\n",
       "      <td>1</td>\n",
       "      <td>1</td>\n",
       "    </tr>\n",
       "    <tr>\n",
       "      <th>...</th>\n",
       "      <td>...</td>\n",
       "      <td>...</td>\n",
       "      <td>...</td>\n",
       "      <td>...</td>\n",
       "    </tr>\n",
       "    <tr>\n",
       "      <th>995</th>\n",
       "      <td>1</td>\n",
       "      <td>0</td>\n",
       "      <td>1</td>\n",
       "      <td>1</td>\n",
       "    </tr>\n",
       "    <tr>\n",
       "      <th>996</th>\n",
       "      <td>1</td>\n",
       "      <td>0</td>\n",
       "      <td>1</td>\n",
       "      <td>1</td>\n",
       "    </tr>\n",
       "    <tr>\n",
       "      <th>997</th>\n",
       "      <td>1</td>\n",
       "      <td>0</td>\n",
       "      <td>1</td>\n",
       "      <td>1</td>\n",
       "    </tr>\n",
       "    <tr>\n",
       "      <th>998</th>\n",
       "      <td>0</td>\n",
       "      <td>0</td>\n",
       "      <td>0</td>\n",
       "      <td>0</td>\n",
       "    </tr>\n",
       "    <tr>\n",
       "      <th>999</th>\n",
       "      <td>0</td>\n",
       "      <td>1</td>\n",
       "      <td>1</td>\n",
       "      <td>1</td>\n",
       "    </tr>\n",
       "  </tbody>\n",
       "</table>\n",
       "<p>1000 rows × 4 columns</p>\n",
       "</div>"
      ],
      "text/plain": [
       "     Cloudy  Sprinkler  Rain  Wet_Grass\n",
       "0         0          0     0          0\n",
       "1         1          0     1          1\n",
       "2         0          1     0          1\n",
       "3         1          1     1          1\n",
       "4         1          1     1          1\n",
       "..      ...        ...   ...        ...\n",
       "995       1          0     1          1\n",
       "996       1          0     1          1\n",
       "997       1          0     1          1\n",
       "998       0          0     0          0\n",
       "999       0          1     1          1\n",
       "\n",
       "[1000 rows x 4 columns]"
      ]
     },
     "execution_count": 22,
     "metadata": {},
     "output_type": "execute_result"
    }
   ],
   "source": [
    "import bnlearn as bn\n",
    "\n",
    "# load the Sprinkler dataset\n",
    "df = bn.import_example()\n",
    "\n",
    "df"
   ]
  },
  {
   "cell_type": "code",
   "execution_count": 23,
   "metadata": {
    "scrolled": false
   },
   "outputs": [
    {
     "name": "stdout",
     "output_type": "stream",
     "text": [
      "[bnlearn] >Computing best DAG using [hc]\n",
      "[bnlearn] >Set scoring type at [bic]\n",
      "[bnlearn]> Set node properties.\n",
      "[bnlearn] >Plot based on BayesianModel\n"
     ]
    },
    {
     "data": {
      "image/png": "[encoded data removed]",
      "text/plain": [
       "<Figure size 1080x576 with 1 Axes>"
      ]
     },
     "metadata": {},
     "output_type": "display_data"
    }
   ],
   "source": [
    "# Structure Learning: obtaining the network structure\n",
    "\n",
    "model = bn.structure_learning.fit(df)\n",
    "\n",
    "G = bn.plot(model)"
   ]
  },
  {
   "cell_type": "code",
   "execution_count": 15,
   "metadata": {},
   "outputs": [
    {
     "name": "stdout",
     "output_type": "stream",
     "text": [
      "[bnlearn] >Parameter learning> Computing parameters using [bayes]\n",
      "[bnlearn] >Conversion of adjmat to BayesianModel.\n",
      "[bnlearn] >CPD of Cloudy:\n",
      "+-----------+--------------------+--------------------+\n",
      "| Rain      | Rain(0)            | Rain(1)            |\n",
      "+-----------+--------------------+--------------------+\n",
      "| Cloudy(0) | 0.6538071065989848 | 0.3389162561576355 |\n",
      "+-----------+--------------------+--------------------+\n",
      "| Cloudy(1) | 0.3461928934010152 | 0.6610837438423646 |\n",
      "+-----------+--------------------+--------------------+\n",
      "[bnlearn] >CPD of Sprinkler:\n",
      "+--------------+--------------------+--------------------+\n",
      "| Cloudy       | Cloudy(0)          | Cloudy(1)          |\n",
      "+--------------+--------------------+--------------------+\n",
      "| Sprinkler(0) | 0.4807692307692308 | 0.7075098814229249 |\n",
      "+--------------+--------------------+--------------------+\n",
      "| Sprinkler(1) | 0.5192307692307693 | 0.2924901185770751 |\n",
      "+--------------+--------------------+--------------------+\n",
      "[bnlearn] >CPD of Wet_Grass:\n",
      "+--------------+--------------------+-----+---------------------+\n",
      "| Rain         | Rain(0)            | ... | Rain(1)             |\n",
      "+--------------+--------------------+-----+---------------------+\n",
      "| Sprinkler    | Sprinkler(0)       | ... | Sprinkler(1)        |\n",
      "+--------------+--------------------+-----+---------------------+\n",
      "| Wet_Grass(0) | 0.7553816046966731 | ... | 0.37910447761194027 |\n",
      "+--------------+--------------------+-----+---------------------+\n",
      "| Wet_Grass(1) | 0.2446183953033268 | ... | 0.6208955223880597  |\n",
      "+--------------+--------------------+-----+---------------------+\n",
      "[bnlearn] >CPD of Rain:\n",
      "+---------+--------+\n",
      "| Rain(0) | 0.4925 |\n",
      "+---------+--------+\n",
      "| Rain(1) | 0.5075 |\n",
      "+---------+--------+\n",
      "[bnlearn]> Set node properties.\n",
      "[bnlearn] >Plot based on BayesianModel\n"
     ]
    },
    {
     "data": {
      "image/png": "[encoded data removed]",
      "text/plain": [
       "<Figure size 1080x576 with 1 Axes>"
      ]
     },
     "metadata": {},
     "output_type": "display_data"
    }
   ],
   "source": [
    "# learn the parameters of the DAG using the df\n",
    "model_update = bn.parameter_learning.fit(model, df, methodtype=\"bayes\")\n",
    "\n",
    "# Make plot\n",
    "G = bn.plot(model_update)"
   ]
  },
  {
   "cell_type": "code",
   "execution_count": 16,
   "metadata": {},
   "outputs": [
    {
     "name": "stdout",
     "output_type": "stream",
     "text": [
      "[bnlearn] >Variable Elimination..\n"
     ]
    },
    {
     "data": {
      "application/vnd.jupyter.widget-view+json": {
       "model_id": "730f78e7416445b5b3c475a4a0879c18",
       "version_major": 2,
       "version_minor": 0
      },
      "text/plain": [
       "0it [00:00, ?it/s]"
      ]
     },
     "metadata": {},
     "output_type": "display_data"
    },
    {
     "data": {
      "application/vnd.jupyter.widget-view+json": {
       "model_id": "93ba367008ab438d87a5b4846b3c58bc",
       "version_major": 2,
       "version_minor": 0
      },
      "text/plain": [
       "0it [00:00, ?it/s]"
      ]
     },
     "metadata": {},
     "output_type": "display_data"
    },
    {
     "name": "stdout",
     "output_type": "stream",
     "text": [
      "+----+-------------+----------+\n",
      "|    |   Wet_Grass |        p |\n",
      "+====+=============+==========+\n",
      "|  0 |           0 | 0.255882 |\n",
      "+----+-------------+----------+\n",
      "|  1 |           1 | 0.744118 |\n",
      "+----+-------------+----------+\n",
      "[bnlearn] >Variable Elimination..\n"
     ]
    },
    {
     "data": {
      "application/vnd.jupyter.widget-view+json": {
       "model_id": "c6116c7ba89b4b80892d5f9968ea3de4",
       "version_major": 2,
       "version_minor": 0
      },
      "text/plain": [
       "  0%|          | 0/2 [00:00<?, ?it/s]"
      ]
     },
     "metadata": {},
     "output_type": "display_data"
    },
    {
     "data": {
      "application/vnd.jupyter.widget-view+json": {
       "model_id": "a9f33cf6dc984598ad6f52a959077dbc",
       "version_major": 2,
       "version_minor": 0
      },
      "text/plain": [
       "  0%|          | 0/2 [00:00<?, ?it/s]"
      ]
     },
     "metadata": {},
     "output_type": "display_data"
    },
    {
     "name": "stdout",
     "output_type": "stream",
     "text": [
      "+----+-------------+----------+\n",
      "|    |   Wet_Grass |        p |\n",
      "+====+=============+==========+\n",
      "|  0 |           0 | 0.301393 |\n",
      "+----+-------------+----------+\n",
      "|  1 |           1 | 0.698607 |\n",
      "+----+-------------+----------+\n"
     ]
    }
   ],
   "source": [
    "# performing inference\n",
    "q_1 = bn.inference.fit(model_update, variables=['Wet_Grass'], evidence={'Cloudy':1,'Sprinkler':0, 'Rain':1})\n",
    "q_2 = bn.inference.fit(model_update, variables=['Wet_Grass'], evidence={'Rain':1})"
   ]
  },
  {
   "cell_type": "markdown",
   "metadata": {},
   "source": [
    "<div class='alert alert-block alert-success' style=\"font-weight:bolder\">\n",
    "\n",
    "### Task 1\n",
    "\n",
    "Learn a Bayesian Network of the artificial smart grid data set. Construct the network make inference for the following:\n",
    "\n",
    "- P(Outage_Duration=Less_than_1H | Time=Morning, Demand_Factor=Medium)\n",
    "- P(Demand_Factor=High | Overload=Yes, Weather=Cold)\n",
    "- P(Number_of_Customers=Low | Demand_Factor=High)\n"
   ]
  },
  {
   "cell_type": "code",
   "execution_count": 17,
   "metadata": {
    "scrolled": false
   },
   "outputs": [
    {
     "name": "stdout",
     "output_type": "stream",
     "text": [
      "Index(['Season', 'Outage_Duration', 'Number_of_Customers', 'Overload',\n",
      "       'Weather', 'Time', 'Demand_Factor', 'Day'],\n",
      "      dtype='object')\n"
     ]
    },
    {
     "data": {
      "text/html": [
       "<div>\n",
       "<style scoped>\n",
       "    .dataframe tbody tr th:only-of-type {\n",
       "        vertical-align: middle;\n",
       "    }\n",
       "\n",
       "    .dataframe tbody tr th {\n",
       "        vertical-align: top;\n",
       "    }\n",
       "\n",
       "    .dataframe thead th {\n",
       "        text-align: right;\n",
       "    }\n",
       "</style>\n",
       "<table border=\"1\" class=\"dataframe\">\n",
       "  <thead>\n",
       "    <tr style=\"text-align: right;\">\n",
       "      <th></th>\n",
       "      <th>Season</th>\n",
       "      <th>Outage_Duration</th>\n",
       "      <th>Number_of_Customers</th>\n",
       "      <th>Overload</th>\n",
       "      <th>Weather</th>\n",
       "      <th>Time</th>\n",
       "      <th>Demand_Factor</th>\n",
       "      <th>Day</th>\n",
       "    </tr>\n",
       "  </thead>\n",
       "  <tbody>\n",
       "    <tr>\n",
       "      <th>0</th>\n",
       "      <td>Autumn</td>\n",
       "      <td>Less_than_1H</td>\n",
       "      <td>Low</td>\n",
       "      <td>Yes</td>\n",
       "      <td>Cold</td>\n",
       "      <td>Morning</td>\n",
       "      <td>Low</td>\n",
       "      <td>Weekdays</td>\n",
       "    </tr>\n",
       "    <tr>\n",
       "      <th>1</th>\n",
       "      <td>Winter</td>\n",
       "      <td>Less_than_1H</td>\n",
       "      <td>Low</td>\n",
       "      <td>No</td>\n",
       "      <td>Cold</td>\n",
       "      <td>Evening</td>\n",
       "      <td>Low</td>\n",
       "      <td>Weekdays</td>\n",
       "    </tr>\n",
       "    <tr>\n",
       "      <th>2</th>\n",
       "      <td>Spring</td>\n",
       "      <td>More_than_1H</td>\n",
       "      <td>Low</td>\n",
       "      <td>No</td>\n",
       "      <td>Cold</td>\n",
       "      <td>Evening</td>\n",
       "      <td>Low</td>\n",
       "      <td>Weekdays</td>\n",
       "    </tr>\n",
       "    <tr>\n",
       "      <th>3</th>\n",
       "      <td>Winter</td>\n",
       "      <td>Less_than_1H</td>\n",
       "      <td>High</td>\n",
       "      <td>No</td>\n",
       "      <td>Warm</td>\n",
       "      <td>Morning</td>\n",
       "      <td>Low</td>\n",
       "      <td>Weekdays</td>\n",
       "    </tr>\n",
       "    <tr>\n",
       "      <th>4</th>\n",
       "      <td>Spring</td>\n",
       "      <td>More_than_1H</td>\n",
       "      <td>Low</td>\n",
       "      <td>No</td>\n",
       "      <td>Cold</td>\n",
       "      <td>Morning</td>\n",
       "      <td>Low</td>\n",
       "      <td>Weekend</td>\n",
       "    </tr>\n",
       "    <tr>\n",
       "      <th>...</th>\n",
       "      <td>...</td>\n",
       "      <td>...</td>\n",
       "      <td>...</td>\n",
       "      <td>...</td>\n",
       "      <td>...</td>\n",
       "      <td>...</td>\n",
       "      <td>...</td>\n",
       "      <td>...</td>\n",
       "    </tr>\n",
       "    <tr>\n",
       "      <th>695</th>\n",
       "      <td>Autumn</td>\n",
       "      <td>Less_than_1H</td>\n",
       "      <td>Low</td>\n",
       "      <td>Yes</td>\n",
       "      <td>Cold</td>\n",
       "      <td>Afternoon</td>\n",
       "      <td>High</td>\n",
       "      <td>Weekend</td>\n",
       "    </tr>\n",
       "    <tr>\n",
       "      <th>696</th>\n",
       "      <td>Summer</td>\n",
       "      <td>More_than_1H</td>\n",
       "      <td>Low</td>\n",
       "      <td>No</td>\n",
       "      <td>Warm</td>\n",
       "      <td>Evening</td>\n",
       "      <td>Medium</td>\n",
       "      <td>Weekend</td>\n",
       "    </tr>\n",
       "    <tr>\n",
       "      <th>697</th>\n",
       "      <td>Winter</td>\n",
       "      <td>Less_than_1H</td>\n",
       "      <td>High</td>\n",
       "      <td>Yes</td>\n",
       "      <td>Cold</td>\n",
       "      <td>Evening</td>\n",
       "      <td>Medium</td>\n",
       "      <td>Weekdays</td>\n",
       "    </tr>\n",
       "    <tr>\n",
       "      <th>698</th>\n",
       "      <td>Autumn</td>\n",
       "      <td>More_than_1H</td>\n",
       "      <td>Low</td>\n",
       "      <td>No</td>\n",
       "      <td>Cold</td>\n",
       "      <td>Afternoon</td>\n",
       "      <td>High</td>\n",
       "      <td>Weekend</td>\n",
       "    </tr>\n",
       "    <tr>\n",
       "      <th>699</th>\n",
       "      <td>Spring</td>\n",
       "      <td>Less_than_1H</td>\n",
       "      <td>High</td>\n",
       "      <td>No</td>\n",
       "      <td>Warm</td>\n",
       "      <td>Morning</td>\n",
       "      <td>Low</td>\n",
       "      <td>Weekdays</td>\n",
       "    </tr>\n",
       "  </tbody>\n",
       "</table>\n",
       "<p>700 rows × 8 columns</p>\n",
       "</div>"
      ],
      "text/plain": [
       "     Season Outage_Duration Number_of_Customers Overload Weather       Time  \\\n",
       "0    Autumn    Less_than_1H                 Low      Yes    Cold    Morning   \n",
       "1    Winter    Less_than_1H                 Low       No    Cold    Evening   \n",
       "2    Spring    More_than_1H                 Low       No    Cold    Evening   \n",
       "3    Winter    Less_than_1H                High       No    Warm    Morning   \n",
       "4    Spring    More_than_1H                 Low       No    Cold    Morning   \n",
       "..      ...             ...                 ...      ...     ...        ...   \n",
       "695  Autumn    Less_than_1H                 Low      Yes    Cold  Afternoon   \n",
       "696  Summer    More_than_1H                 Low       No    Warm    Evening   \n",
       "697  Winter    Less_than_1H                High      Yes    Cold    Evening   \n",
       "698  Autumn    More_than_1H                 Low       No    Cold  Afternoon   \n",
       "699  Spring    Less_than_1H                High       No    Warm    Morning   \n",
       "\n",
       "    Demand_Factor       Day  \n",
       "0             Low  Weekdays  \n",
       "1             Low  Weekdays  \n",
       "2             Low  Weekdays  \n",
       "3             Low  Weekdays  \n",
       "4             Low   Weekend  \n",
       "..            ...       ...  \n",
       "695          High   Weekend  \n",
       "696        Medium   Weekend  \n",
       "697        Medium  Weekdays  \n",
       "698          High   Weekend  \n",
       "699           Low  Weekdays  \n",
       "\n",
       "[700 rows x 8 columns]"
      ]
     },
     "execution_count": 17,
     "metadata": {},
     "output_type": "execute_result"
    }
   ],
   "source": [
    "import pandas as pd\n",
    "\n",
    "file = 'smart_grid.xlsx'\n",
    "\n",
    "df_sg = data = pd.read_excel(file)\n",
    "\n",
    "print(df_sg.columns)\n",
    "df_sg"
   ]
  },
  {
   "cell_type": "code",
   "execution_count": 18,
   "metadata": {},
   "outputs": [
    {
     "name": "stdout",
     "output_type": "stream",
     "text": [
      "[bnlearn] >Computing best DAG using [hc]\n",
      "[bnlearn] >Set scoring type at [bic]\n",
      "[bnlearn] >Parameter learning> Computing parameters using [bayes]\n",
      "[bnlearn] >Conversion of adjmat to BayesianModel.\n",
      "[bnlearn] >CPD of Outage_Duration:\n",
      "+-------------------------------+--------------------+---------------------+\n",
      "| Overload                      | Overload(No)       | Overload(Yes)       |\n",
      "+-------------------------------+--------------------+---------------------+\n",
      "| Outage_Duration(Less_than_1H) | 0.3964248159831756 | 0.5874499332443258  |\n",
      "+-------------------------------+--------------------+---------------------+\n",
      "| Outage_Duration(More_than_1H) | 0.6035751840168244 | 0.41255006675567424 |\n",
      "+-------------------------------+--------------------+---------------------+\n",
      "[bnlearn] >CPD of Weather:\n",
      "+-----------------+-----+-------------------------------+\n",
      "| Outage_Duration | ... | Outage_Duration(More_than_1H) |\n",
      "+-----------------+-----+-------------------------------+\n",
      "| Weather( Cold)  | ... | 0.579841449603624             |\n",
      "+-----------------+-----+-------------------------------+\n",
      "| Weather( Warm)  | ... | 0.420158550396376             |\n",
      "+-----------------+-----+-------------------------------+\n",
      "[bnlearn] >CPD of Number_of_Customers:\n",
      "+---------------------------+----------+\n",
      "| Number_of_Customers(High) | 0.461176 |\n",
      "+---------------------------+----------+\n",
      "| Number_of_Customers(Low)  | 0.538824 |\n",
      "+---------------------------+----------+\n",
      "[bnlearn] >CPD of Overload:\n",
      "+---------------------+-----+--------------------------+\n",
      "| Demand_Factor       | ... | Demand_Factor(Medium)    |\n",
      "+---------------------+-----+--------------------------+\n",
      "| Number_of_Customers | ... | Number_of_Customers(Low) |\n",
      "+---------------------+-----+--------------------------+\n",
      "| Overload(No)        | ... | 0.6346396965865992       |\n",
      "+---------------------+-----+--------------------------+\n",
      "| Overload(Yes)       | ... | 0.3653603034134008       |\n",
      "+---------------------+-----+--------------------------+\n",
      "[bnlearn] >CPD of Season:\n",
      "+----------------+---------------------+---------------------+\n",
      "| Weather        | Weather( Cold)      | Weather( Warm)      |\n",
      "+----------------+---------------------+---------------------+\n",
      "| Season(Autumn) | 0.26673866090712745 | 0.23772609819121446 |\n",
      "+----------------+---------------------+---------------------+\n",
      "| Season(Spring) | 0.24622030237580994 | 0.2467700258397933  |\n",
      "+----------------+---------------------+---------------------+\n",
      "| Season(Summer) | 0.17818574514038876 | 0.3372093023255814  |\n",
      "+----------------+---------------------+---------------------+\n",
      "| Season(Winter) | 0.30885529157667385 | 0.17829457364341086 |\n",
      "+----------------+---------------------+---------------------+\n",
      "[bnlearn] >CPD of Time:\n",
      "+-----------------+----------+\n",
      "| Time(Afternoon) | 0.267647 |\n",
      "+-----------------+----------+\n",
      "| Time(Evening)   | 0.267647 |\n",
      "+-----------------+----------+\n",
      "| Time(Morning)   | 0.277647 |\n",
      "+-----------------+----------+\n",
      "| Time(Night)     | 0.187059 |\n",
      "+-----------------+----------+\n",
      "[bnlearn] >CPD of Demand_Factor:\n",
      "+-----------------------+-----+---------------------+\n",
      "| Day                   | ... | Day(Weekend)        |\n",
      "+-----------------------+-----+---------------------+\n",
      "| Time                  | ... | Time(Night)         |\n",
      "+-----------------------+-----+---------------------+\n",
      "| Demand_Factor(High)   | ... | 0.2882882882882883  |\n",
      "+-----------------------+-----+---------------------+\n",
      "| Demand_Factor(Low)    | ... | 0.35585585585585583 |\n",
      "+-----------------------+-----+---------------------+\n",
      "| Demand_Factor(Medium) | ... | 0.35585585585585583 |\n",
      "+-----------------------+-----+---------------------+\n",
      "[bnlearn] >CPD of Day:\n",
      "+---------------+----------+\n",
      "| Day(Weekdays) | 0.543529 |\n",
      "+---------------+----------+\n",
      "| Day(Weekend)  | 0.456471 |\n",
      "+---------------+----------+\n"
     ]
    }
   ],
   "source": [
    "model = bn.structure_learning.fit(data)\n",
    "model_update = bn.parameter_learning.fit(model, data, methodtype=\"bayes\")\n"
   ]
  },
  {
   "cell_type": "code",
   "execution_count": 19,
   "metadata": {},
   "outputs": [
    {
     "name": "stdout",
     "output_type": "stream",
     "text": [
      "[bnlearn] >Variable Elimination..\n"
     ]
    },
    {
     "data": {
      "application/vnd.jupyter.widget-view+json": {
       "model_id": "08460e0fc27846899f17823aaf6f6874",
       "version_major": 2,
       "version_minor": 0
      },
      "text/plain": [
       "  0%|          | 0/2 [00:00<?, ?it/s]"
      ]
     },
     "metadata": {},
     "output_type": "display_data"
    },
    {
     "data": {
      "application/vnd.jupyter.widget-view+json": {
       "model_id": "923bf1ecb9264ec38aeebf4429801004",
       "version_major": 2,
       "version_minor": 0
      },
      "text/plain": [
       "  0%|          | 0/2 [00:00<?, ?it/s]"
      ]
     },
     "metadata": {},
     "output_type": "display_data"
    },
    {
     "name": "stdout",
     "output_type": "stream",
     "text": [
      "+----+-------------------+----------+\n",
      "|    |   Outage_Duration |        p |\n",
      "+====+===================+==========+\n",
      "|  0 |                 0 | 0.482832 |\n",
      "+----+-------------------+----------+\n",
      "|  1 |                 1 | 0.517168 |\n",
      "+----+-------------------+----------+\n"
     ]
    }
   ],
   "source": [
    "q_1 = bn.inference.fit(model_update, variables=['Outage_Duration'], evidence={'Time':'Morning','Demand_Factor':'Medium'})"
   ]
  },
  {
   "cell_type": "code",
   "execution_count": 20,
   "metadata": {},
   "outputs": [
    {
     "name": "stdout",
     "output_type": "stream",
     "text": [
      "[bnlearn] >Variable Elimination..\n"
     ]
    },
    {
     "data": {
      "application/vnd.jupyter.widget-view+json": {
       "model_id": "6c471c4bf4054f9f84cbcba9688badc8",
       "version_major": 2,
       "version_minor": 0
      },
      "text/plain": [
       "  0%|          | 0/3 [00:00<?, ?it/s]"
      ]
     },
     "metadata": {},
     "output_type": "display_data"
    },
    {
     "data": {
      "application/vnd.jupyter.widget-view+json": {
       "model_id": "48efb5c08dac4224b176617b351beaeb",
       "version_major": 2,
       "version_minor": 0
      },
      "text/plain": [
       "  0%|          | 0/3 [00:00<?, ?it/s]"
      ]
     },
     "metadata": {},
     "output_type": "display_data"
    },
    {
     "name": "stdout",
     "output_type": "stream",
     "text": [
      "+----+-----------------+----------+\n",
      "|    |   Demand_Factor |        p |\n",
      "+====+=================+==========+\n",
      "|  0 |               0 | 0.367494 |\n",
      "+----+-----------------+----------+\n",
      "|  1 |               1 | 0.33314  |\n",
      "+----+-----------------+----------+\n",
      "|  2 |               2 | 0.299365 |\n",
      "+----+-----------------+----------+\n"
     ]
    }
   ],
   "source": [
    "q_2 = bn.inference.fit(model_update, variables=['Demand_Factor'], evidence={'Overload':'Yes','Weather':' Cold'})"
   ]
  },
  {
   "cell_type": "code",
   "execution_count": 21,
   "metadata": {},
   "outputs": [
    {
     "name": "stdout",
     "output_type": "stream",
     "text": [
      "[bnlearn] >Variable Elimination..\n"
     ]
    },
    {
     "data": {
      "application/vnd.jupyter.widget-view+json": {
       "model_id": "cc9adbfced9d4031a76da8d5e8f7dcdd",
       "version_major": 2,
       "version_minor": 0
      },
      "text/plain": [
       "0it [00:00, ?it/s]"
      ]
     },
     "metadata": {},
     "output_type": "display_data"
    },
    {
     "data": {
      "application/vnd.jupyter.widget-view+json": {
       "model_id": "764ede74478b4691ba9663701269a9d7",
       "version_major": 2,
       "version_minor": 0
      },
      "text/plain": [
       "0it [00:00, ?it/s]"
      ]
     },
     "metadata": {},
     "output_type": "display_data"
    },
    {
     "name": "stdout",
     "output_type": "stream",
     "text": [
      "+----+-----------------------+----------+\n",
      "|    |   Number_of_Customers |        p |\n",
      "+====+=======================+==========+\n",
      "|  0 |                     0 | 0.461176 |\n",
      "+----+-----------------------+----------+\n",
      "|  1 |                     1 | 0.538824 |\n",
      "+----+-----------------------+----------+\n"
     ]
    }
   ],
   "source": [
    "q_3 = bn.inference.fit(model_update, variables=['Number_of_Customers'], evidence={'Demand_Factor':'High'})"
   ]
  },
  {
   "cell_type": "code",
   "execution_count": null,
   "metadata": {},
   "outputs": [],
   "source": []
  },
  {
   "cell_type": "code",
   "execution_count": null,
   "metadata": {},
   "outputs": [],
   "source": []
  }
 ],
 "metadata": {
  "kernelspec": {
   "display_name": "Python 3 (ipykernel)",
   "language": "python",
   "name": "python3"
  },
  "language_info": {
   "codemirror_mode": {
    "name": "ipython",
    "version": 3
   },
   "file_extension": ".py",
   "mimetype": "text/x-python",
   "name": "python",
   "nbconvert_exporter": "python",
   "pygments_lexer": "ipython3",
   "version": "3.9.9"
  }
 },
 "nbformat": 4,
 "nbformat_minor": 4
}
